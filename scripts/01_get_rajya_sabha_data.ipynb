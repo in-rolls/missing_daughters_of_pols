{
 "cells": [
  {
   "cell_type": "markdown",
   "id": "cfddff2d-7267-4c5c-8b8b-59b1842386ab",
   "metadata": {},
   "source": [
    "### Get Rajya Sabha Member Biographical Data"
   ]
  },
  {
   "cell_type": "code",
   "execution_count": null,
   "id": "6e875438-8d1e-4c40-ad41-36e942769de4",
   "metadata": {},
   "outputs": [],
   "source": [
    "import requests\n",
    "import json\n",
    "import os"
   ]
  },
  {
   "cell_type": "code",
   "execution_count": null,
   "id": "d44a954d-3dd3-4adc-abd9-3c724e9a6ac7",
   "metadata": {},
   "outputs": [],
   "source": [
    "# Create a folder to store the JSON files\n",
    "folder_path = 'mp_data'\n",
    "os.makedirs(folder_path, exist_ok=True)\n",
    "\n",
    "# Iterate over the mpcode range\n",
    "for mpcode in range(1, 2574):\n",
    "    url = f'https://rsdoc.nic.in/Memberweb/GetCurrentMember_Biodata?mpcode={mpcode}'\n",
    "\n",
    "    # Send the GET request\n",
    "    response = requests.get(url)\n",
    "\n",
    "    if response.status_code == 200:\n",
    "        # Parse the JSON data\n",
    "        data = json.loads(response.text)\n",
    "\n",
    "        # Create the file path for the JSON file\n",
    "        file_path = os.path.join(folder_path, f'{mpcode}.json')\n",
    "\n",
    "        # Save the JSON data to the file\n",
    "        with open(file_path, 'w') as f:\n",
    "            json.dump(data, f)\n",
    "    else:\n",
    "        print(f'Request failed for MP Code: {mpcode}')"
   ]
  }
 ],
 "metadata": {
  "kernelspec": {
   "display_name": "Python 3 (ipykernel)",
   "language": "python",
   "name": "python3"
  },
  "language_info": {
   "codemirror_mode": {
    "name": "ipython",
    "version": 3
   },
   "file_extension": ".py",
   "mimetype": "text/x-python",
   "name": "python",
   "nbconvert_exporter": "python",
   "pygments_lexer": "ipython3",
   "version": "3.8.10"
  }
 },
 "nbformat": 4,
 "nbformat_minor": 5
}
