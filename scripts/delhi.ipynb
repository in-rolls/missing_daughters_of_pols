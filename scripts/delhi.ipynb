{
 "cells": [
  {
   "cell_type": "markdown",
   "id": "d6cb3c79",
   "metadata": {},
   "source": [
    "### Delhi"
   ]
  },
  {
   "cell_type": "code",
   "execution_count": 64,
   "id": "dcd73ec8",
   "metadata": {},
   "outputs": [
    {
     "data": {
      "text/plain": [
       "1.1940298507462686"
      ]
     },
     "execution_count": 64,
     "metadata": {},
     "output_type": "execute_result"
    }
   ],
   "source": [
    "import pandas as pd\n",
    "delhi = pd.read_csv(\"../data/delhi/delhi.csv\")\n",
    "delhi['sons'].sum()/delhi['daughters'].sum()"
   ]
  },
  {
   "cell_type": "code",
   "execution_count": 66,
   "id": "94b43177",
   "metadata": {},
   "outputs": [
    {
     "data": {
      "text/plain": [
       "0.5843915343915345"
      ]
     },
     "execution_count": 66,
     "metadata": {},
     "output_type": "execute_result"
    }
   ],
   "source": [
    "(delhi['sons']/(delhi['sons'] + delhi['daughters'])).mean()"
   ]
  },
  {
   "cell_type": "code",
   "execution_count": null,
   "id": "b415d3c6",
   "metadata": {},
   "outputs": [],
   "source": []
  }
 ],
 "metadata": {
  "kernelspec": {
   "display_name": "Python 3 (ipykernel)",
   "language": "python",
   "name": "python3"
  },
  "language_info": {
   "codemirror_mode": {
    "name": "ipython",
    "version": 3
   },
   "file_extension": ".py",
   "mimetype": "text/x-python",
   "name": "python",
   "nbconvert_exporter": "python",
   "pygments_lexer": "ipython3",
   "version": "3.9.13"
  }
 },
 "nbformat": 4,
 "nbformat_minor": 5
}
