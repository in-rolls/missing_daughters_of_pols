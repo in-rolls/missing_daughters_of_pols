{
 "cells": [
  {
   "cell_type": "markdown",
   "id": "f1c7cbc4-a777-463f-bd23-b11309e6747f",
   "metadata": {},
   "source": [
    "### Rajya Sabha JSON to PD + Recoding + Analysis"
   ]
  },
  {
   "cell_type": "code",
   "execution_count": 1,
   "id": "11b37112-57de-4a7d-a429-7ebd9c20475b",
   "metadata": {},
   "outputs": [],
   "source": [
    "import pandas as pd\n",
    "import json\n",
    "import os\n",
    "\n",
    "folder_path = 'rs_data'"
   ]
  },
  {
   "cell_type": "code",
   "execution_count": 2,
   "id": "aa933e1d-3125-4fc4-9077-db1c8f9f6662",
   "metadata": {},
   "outputs": [],
   "source": [
    "import pandas as pd\n",
    "import json\n",
    "import os\n",
    "\n",
    "folder_path = 'rs_data'\n",
    "\n",
    "# Get the list of JSON files in the folder\n",
    "json_files = [file for file in os.listdir(folder_path) if file.endswith('.json')]\n",
    "\n",
    "data = []\n",
    "columns = set()  # Use a set to store the column names\n",
    "\n",
    "# Iterate over each JSON file\n",
    "for file in json_files:\n",
    "    file_path = os.path.join(folder_path, file)\n",
    "    \n",
    "    # Read the JSON file\n",
    "    with open(file_path, 'r') as f:\n",
    "        json_data = json.load(f)\n",
    "    \n",
    "    # If the JSON data is a list and not empty, extract the first item\n",
    "    if isinstance(json_data, list) and json_data:\n",
    "        json_data = json_data[0]\n",
    "    \n",
    "        # Extract the data from the JSON\n",
    "        mp_data = {\n",
    "            'MP_CODE': json_data.get('MP_CODE'),\n",
    "            'FATH_NAME': json_data.get('FATH_NAME'),\n",
    "            'MOTH_NAME': json_data.get('MOTH_NAME'),\n",
    "            'DATE_BIRTH': json_data.get('DATE_BIRTH'),\n",
    "            'PLACE_BIRTH': json_data.get('PLACE_BIRTH'),\n",
    "            'MARITIAL': json_data.get('MARITIAL'),\n",
    "            'DATE_MARRIAGE': json_data.get('DATE_MARRIAGE'),\n",
    "            'SPOUSE_NAME': json_data.get('SPOUSE_NAME'),\n",
    "            'NO_SONS': json_data.get('NO_SONS'),\n",
    "            'NO_DAUGHTER': json_data.get('NO_DAUGHTER'),\n",
    "            'QUALIFICATION': json_data.get('QUALIFICATION'),\n",
    "            'OTHER_PROF_DETAIL': json_data.get('OTHER_PROF_DETAIL'),\n",
    "            'PREVIOUS_MEMBERSHIP': json_data.get('PREVIOUS_MEMBERSHIP'),\n",
    "            'DET_PUB_OFFICE_HELD': json_data.get('DET_PUB_OFFICE_HELD'),\n",
    "            'FREE_STRUGGLE': json_data.get('FREE_STRUGGLE'),\n",
    "            'BOOKS': json_data.get('BOOKS'),\n",
    "            'ACTIVITY': json_data.get('ACTIVITY'),\n",
    "            'COUNTRY_VISITED': json_data.get('COUNTRY_VISITED'),\n",
    "            'HOBBIES': json_data.get('HOBBIES'),\n",
    "            'ESSENTIAL_INFO': json_data.get('ESSENTIAL_INFO'),\n",
    "            'MP_INIT': json_data.get('MP_INIT'),\n",
    "            'MP_FNAME': json_data.get('MP_FNAME'),\n",
    "            'MP_LNAME': json_data.get('MP_LNAME'),\n",
    "            'PARTY_NAME': json_data.get('PARTY_NAME'),\n",
    "            'STATE_NAME': json_data.get('STATE_NAME'),\n",
    "            'C_PADDRESS': json_data.get('C_PADDRESS'),\n",
    "            'C_PPIN': json_data.get('C_PPIN'),\n",
    "            'C_PTELE': json_data.get('C_PTELE'),\n",
    "            'OTH_C_PADDRESS': json_data.get('OTH_C_PADDRESS'),\n",
    "            'OTH_C_PPIN': json_data.get('OTH_C_PPIN'),\n",
    "            'OTH_C_PTELE': json_data.get('OTH_C_PTELE'),\n",
    "            'C_LADDRESS': json_data.get('C_LADDRESS'),\n",
    "            'C_LPIN': json_data.get('C_LPIN'),\n",
    "            'C_LTELE': json_data.get('C_LTELE'),\n",
    "            'OTH_C_LADDRESS': json_data.get('OTH_C_LADDRESS'),\n",
    "            'OTH_C_LPIN': json_data.get('OTH_C_LPIN'),\n",
    "            'OTH_C_LTELE': json_data.get('OTH_C_LTELE'),\n",
    "            'CH_EMAIL_ID': json_data.get('CH_EMAIL_ID'),\n",
    "            'C_MobileNo': json_data.get('C_MobileNo'),\n",
    "            'prof1': json_data.get('prof1'),\n",
    "            'prof2': json_data.get('prof2'),\n",
    "            'prof3': json_data.get('prof3'),\n",
    "            'C_EMAIL_ID': json_data.get('C_EMAIL_ID'),\n",
    "            'MP_MobileNo2': json_data.get('MP_MobileNo2'),\n",
    "            'MP_MobileNo': json_data.get('MP_MobileNo'),\n",
    "            'oath': json_data.get('oath'),\n",
    "            'PHOTO': json_data.get('PHOTO'),\n",
    "            'PHOTO_DSP': json_data.get('PHOTO_DSP')\n",
    "        }\n",
    "        \n",
    "        data.append(mp_data)\n",
    "        \n",
    "        # Update the columns set with the keys from the current JSON file\n",
    "        columns.update(mp_data.keys())\n",
    "\n",
    "# Convert the columns set to a list\n",
    "columns_list = list(columns)\n",
    "\n",
    "# Create the DataFrame\n",
    "df = pd.DataFrame(data, columns=columns_list)"
   ]
  },
  {
   "cell_type": "code",
   "execution_count": 3,
   "id": "786cc3bb-26d4-4e8d-8aac-5f0a6d8c0776",
   "metadata": {},
   "outputs": [
    {
     "data": {
      "text/plain": [
       "(2416, 48)"
      ]
     },
     "execution_count": 3,
     "metadata": {},
     "output_type": "execute_result"
    }
   ],
   "source": [
    "df.shape"
   ]
  },
  {
   "cell_type": "code",
   "execution_count": 4,
   "id": "99b4534a-8b41-40d5-b726-95d96e6c0e95",
   "metadata": {},
   "outputs": [],
   "source": [
    "mapping = {\n",
    "    '1': 1,\n",
    "    'One': 1,\n",
    "    'Two': 2,\n",
    "    'Three': 3,\n",
    "    'Four': 4,\n",
    "    'Five': 5,\n",
    "    'Six': 6,\n",
    "    'Seven': 7,\n",
    "    'Eight': 8,\n",
    "    'None': 0\n",
    "}\n",
    "import numpy as np\n",
    "# Map each element to its numeric representation\n",
    "df['n_sons'] = df['NO_SONS'].str.title().replace(mapping)\n",
    "df['n_daughters'] = df['NO_DAUGHTER'].str.title().replace(mapping)\n",
    "df['n_sons'] = df['n_sons'].replace('', float('nan'))\n",
    "df['n_sons'] = df['n_sons'].replace({None: np.nan})\n",
    "df['n_daughters'] = df['n_daughters'].replace(['', 'One Daughter (Adopted)'], float('nan'))"
   ]
  },
  {
   "cell_type": "code",
   "execution_count": 5,
   "id": "07889eba-7457-4305-b9c8-a66edd65d3df",
   "metadata": {},
   "outputs": [
    {
     "data": {
      "text/plain": [
       "array([ 3., nan,  2.,  1.,  6.,  7.,  4.,  5.,  8.])"
      ]
     },
     "execution_count": 5,
     "metadata": {},
     "output_type": "execute_result"
    }
   ],
   "source": [
    "print(df['n_sons'].unique())\n",
    "df['n_daughters'].unique()"
   ]
  },
  {
   "cell_type": "markdown",
   "id": "d6e876b5-90f5-4b48-bd79-d40a721ddd35",
   "metadata": {},
   "source": [
    "**Only kill rows where daughter and son are missing.\n",
    "Otherwise coerce missing to 0**"
   ]
  },
  {
   "cell_type": "code",
   "execution_count": 6,
   "id": "15b919c3-31ea-4c33-86ae-e5c56718df7e",
   "metadata": {},
   "outputs": [
    {
     "data": {
      "text/plain": [
       "(884, 50)"
      ]
     },
     "execution_count": 6,
     "metadata": {},
     "output_type": "execute_result"
    }
   ],
   "source": [
    "df_small = df[~ (df['n_sons'].isna() & df['n_daughters'].isna())]\n",
    "df_small.shape"
   ]
  },
  {
   "cell_type": "code",
   "execution_count": 18,
   "id": "9a0000db-2538-42f8-b850-0bd4b495b22d",
   "metadata": {},
   "outputs": [
    {
     "data": {
      "text/plain": [
       "1.023972602739726"
      ]
     },
     "execution_count": 19,
     "metadata": {},
     "output_type": "execute_result"
    }
   ],
   "source": [
    "df_small['n_sons'].fillna(0).sum()/df_small['n_daughters'].fillna(0).sum()"
   ]
  },
  {
   "cell_type": "code",
   "execution_count": 20,
   "id": "cf04f521-9408-45ae-9254-5c717ae84b61",
   "metadata": {},
   "outputs": [
    {
     "name": "stderr",
     "output_type": "stream",
     "text": [
      "/tmp/ipykernel_2697891/48249210.py:1: SettingWithCopyWarning: \n",
      "A value is trying to be set on a copy of a slice from a DataFrame.\n",
      "Try using .loc[row_indexer,col_indexer] = value instead\n",
      "\n",
      "See the caveats in the documentation: https://pandas.pydata.org/pandas-docs/stable/user_guide/indexing.html#returning-a-view-versus-a-copy\n",
      "  df_small['n_children'] = df_small['n_sons'].fillna(0) + df_small['n_daughters'].fillna(0)\n",
      "/tmp/ipykernel_2697891/48249210.py:2: SettingWithCopyWarning: \n",
      "A value is trying to be set on a copy of a slice from a DataFrame.\n",
      "Try using .loc[row_indexer,col_indexer] = value instead\n",
      "\n",
      "See the caveats in the documentation: https://pandas.pydata.org/pandas-docs/stable/user_guide/indexing.html#returning-a-view-versus-a-copy\n",
      "  df_small['prop_daughter'] = df_small['n_daughters']/df_small['n_children']\n"
     ]
    }
   ],
   "source": [
    "df_small['n_children'] = df_small['n_sons'].fillna(0) + df_small['n_daughters'].fillna(0)\n",
    "df_small['prop_daughter'] = df_small['n_daughters']/df_small['n_children']"
   ]
  },
  {
   "cell_type": "code",
   "execution_count": 16,
   "id": "1b32b168-9281-4e19-98c2-7e2bbdf99d32",
   "metadata": {},
   "outputs": [
    {
     "data": {
      "text/html": [
       "<div>\n",
       "<style scoped>\n",
       "    .dataframe tbody tr th:only-of-type {\n",
       "        vertical-align: middle;\n",
       "    }\n",
       "\n",
       "    .dataframe tbody tr th {\n",
       "        vertical-align: top;\n",
       "    }\n",
       "\n",
       "    .dataframe thead th {\n",
       "        text-align: right;\n",
       "    }\n",
       "</style>\n",
       "<table border=\"1\" class=\"dataframe\">\n",
       "  <thead>\n",
       "    <tr style=\"text-align: right;\">\n",
       "      <th></th>\n",
       "      <th>n_children</th>\n",
       "      <th>prop_daughter</th>\n",
       "    </tr>\n",
       "  </thead>\n",
       "  <tbody>\n",
       "    <tr>\n",
       "      <th>n_children</th>\n",
       "      <td>1.000000</td>\n",
       "      <td>-0.250926</td>\n",
       "    </tr>\n",
       "    <tr>\n",
       "      <th>prop_daughter</th>\n",
       "      <td>-0.250926</td>\n",
       "      <td>1.000000</td>\n",
       "    </tr>\n",
       "  </tbody>\n",
       "</table>\n",
       "</div>"
      ],
      "text/plain": [
       "               n_children  prop_daughter\n",
       "n_children       1.000000      -0.250926\n",
       "prop_daughter   -0.250926       1.000000"
      ]
     },
     "execution_count": 16,
     "metadata": {},
     "output_type": "execute_result"
    }
   ],
   "source": [
    "df_small[['n_children', 'prop_daughter']].corr()"
   ]
  },
  {
   "cell_type": "code",
   "execution_count": 21,
   "id": "2d7646bd-fc92-4738-9781-a3022f071f70",
   "metadata": {},
   "outputs": [
    {
     "data": {
      "text/plain": [
       "2.67420814479638"
      ]
     },
     "execution_count": 21,
     "metadata": {},
     "output_type": "execute_result"
    }
   ],
   "source": [
    "df_small['n_children'].mean()"
   ]
  },
  {
   "cell_type": "code",
   "execution_count": null,
   "id": "b73ad6f7-3955-4fc8-a8b2-5f6810d22ca3",
   "metadata": {},
   "outputs": [],
   "source": []
  }
 ],
 "metadata": {
  "kernelspec": {
   "display_name": "Python 3 (ipykernel)",
   "language": "python",
   "name": "python3"
  },
  "language_info": {
   "codemirror_mode": {
    "name": "ipython",
    "version": 3
   },
   "file_extension": ".py",
   "mimetype": "text/x-python",
   "name": "python",
   "nbconvert_exporter": "python",
   "pygments_lexer": "ipython3",
   "version": "3.8.10"
  }
 },
 "nbformat": 4,
 "nbformat_minor": 5
}
