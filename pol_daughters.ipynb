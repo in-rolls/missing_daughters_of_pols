{
 "cells": [
  {
   "cell_type": "markdown",
   "id": "dad68a68-bb22-4fa1-bba8-614bb445a040",
   "metadata": {},
   "source": [
    "### Sex Ratio of Children of Indian Politicians"
   ]
  },
  {
   "cell_type": "code",
   "execution_count": 1,
   "id": "962b1e50-5c7e-49b6-ac6d-2d3d0b9651c8",
   "metadata": {},
   "outputs": [],
   "source": [
    "import os\n",
    "import json\n",
    "import requests\n",
    "import pandas as pd\n",
    "import scipy.stats as stats\n",
    "import numpy as np"
   ]
  },
  {
   "cell_type": "code",
   "execution_count": 2,
   "id": "58900cc2-2c09-4c7e-8b37-fa64d1f8062b",
   "metadata": {},
   "outputs": [
    {
     "name": "stdout",
     "output_type": "stream",
     "text": [
      "ls_17.json\n",
      "ls_16.json\n",
      "ls_13.json\n",
      "ls_14.json\n",
      "ls_15.json\n",
      "ls_12.json\n"
     ]
    }
   ],
   "source": [
    "df_list = []\n",
    "\n",
    "for filename in os.listdir(\"data/\"):\n",
    "    print(filename)\n",
    "    with open(os.path.join(\"data/\", filename), \"r\") as f:\n",
    "            data = json.load(f)\n",
    "    df = pd.DataFrame(data['membersDtoList'])\n",
    "    df['ls'] = filename[3:-5]\n",
    "    df_list.append(df)\n",
    "\n",
    "df = pd.concat(df_list)"
   ]
  },
  {
   "cell_type": "code",
   "execution_count": 3,
   "id": "90d657df-d4ad-4176-af02-07dd306386d3",
   "metadata": {},
   "outputs": [
    {
     "data": {
      "text/plain": [
       "(3196, 33)"
      ]
     },
     "execution_count": 3,
     "metadata": {},
     "output_type": "execute_result"
    }
   ],
   "source": [
    "df.shape"
   ]
  },
  {
   "cell_type": "code",
   "execution_count": 4,
   "id": "dca8ca72-9dee-41e8-acb4-7b2aae5b25a0",
   "metadata": {},
   "outputs": [
    {
     "name": "stdout",
     "output_type": "stream",
     "text": [
      "missing data on sons: 213\n",
      "missing data on daughters: 213\n"
     ]
    },
    {
     "data": {
      "text/plain": [
       "(2983, 33)"
      ]
     },
     "execution_count": 4,
     "metadata": {},
     "output_type": "execute_result"
    }
   ],
   "source": [
    "## Filter out NaNs for Sons and Daughters. Assume missing at random.\n",
    "\n",
    "print(\"missing data on sons:\", df['numberOfSons'].isna().sum())\n",
    "print(\"missing data on daughters:\", df['numberOfDaughters'].isna().sum())\n",
    "\n",
    "# Same rows\n",
    "# ----------------\n",
    "\n",
    "df_small = df.loc[~ (df['numberOfSons'].isna() & df['numberOfDaughters'].isna())]\n",
    "df_small.shape"
   ]
  },
  {
   "cell_type": "markdown",
   "id": "267a868b-16f9-4661-a69b-bc087910c0ec",
   "metadata": {},
   "source": [
    "### Unique MPs"
   ]
  },
  {
   "cell_type": "code",
   "execution_count": 5,
   "id": "d7efa0da-8a1b-4d93-b681-63e181d22606",
   "metadata": {},
   "outputs": [
    {
     "data": {
      "text/plain": [
       "1785"
      ]
     },
     "execution_count": 5,
     "metadata": {},
     "output_type": "execute_result"
    }
   ],
   "source": [
    "len(df_small['mpsno'].unique())"
   ]
  },
  {
   "cell_type": "code",
   "execution_count": 6,
   "id": "0837123b-42cb-4e65-bfa2-36c881783370",
   "metadata": {},
   "outputs": [
    {
     "data": {
      "text/plain": [
       "1781"
      ]
     },
     "execution_count": 6,
     "metadata": {},
     "output_type": "execute_result"
    }
   ],
   "source": [
    "len((df_small['firstName'] + df_small['lastName']).unique())"
   ]
  },
  {
   "cell_type": "code",
   "execution_count": 7,
   "id": "1ceb3fd9-0c3d-4443-9e3b-5224d10add5a",
   "metadata": {},
   "outputs": [
    {
     "data": {
      "text/plain": [
       "(1785, 33)"
      ]
     },
     "execution_count": 7,
     "metadata": {},
     "output_type": "execute_result"
    }
   ],
   "source": [
    "unique_df = df_small.drop_duplicates(subset='mpsno', keep='last')\n",
    "unique_df.shape"
   ]
  },
  {
   "cell_type": "markdown",
   "id": "b997fd1c-5abf-4011-9a7d-ab9c7694e95a",
   "metadata": {},
   "source": [
    "### Agg. Sex Ratio"
   ]
  },
  {
   "cell_type": "code",
   "execution_count": 8,
   "id": "4d131977-fddc-422d-bb87-c2e5fda816c4",
   "metadata": {},
   "outputs": [
    {
     "data": {
      "text/plain": [
       "1.0831937465103294"
      ]
     },
     "execution_count": 8,
     "metadata": {},
     "output_type": "execute_result"
    }
   ],
   "source": [
    "sum(df_small['numberOfSons'])/sum(df_small['numberOfDaughters'])"
   ]
  },
  {
   "cell_type": "code",
   "execution_count": 9,
   "id": "7cd21086-13b8-4d27-be29-c8980397aeb1",
   "metadata": {},
   "outputs": [
    {
     "data": {
      "text/plain": [
       "1.0854059127170343"
      ]
     },
     "execution_count": 9,
     "metadata": {},
     "output_type": "execute_result"
    }
   ],
   "source": [
    "# Among unique\n",
    "sum(unique_df['numberOfSons'])/sum(unique_df['numberOfDaughters'])"
   ]
  },
  {
   "cell_type": "markdown",
   "id": "cc367107-38e4-47e5-a526-31a18c17e5c0",
   "metadata": {},
   "source": [
    "### Standard Error of the Sex Ratio"
   ]
  },
  {
   "cell_type": "code",
   "execution_count": 10,
   "id": "b2383d89-eacb-4815-8ab3-3363895795f4",
   "metadata": {},
   "outputs": [],
   "source": [
    "def calculate_ratio(data):\n",
    "    numerator = np.sum(data['numberOfSons'])\n",
    "    denominator = np.sum(data['numberOfDaughters'])\n",
    "    return numerator / denominator"
   ]
  },
  {
   "cell_type": "code",
   "execution_count": 11,
   "id": "5a2e44a8-dbbf-46a8-8e01-e02ce0793c66",
   "metadata": {},
   "outputs": [
    {
     "data": {
      "text/plain": [
       "0.030860658898348124"
      ]
     },
     "execution_count": 11,
     "metadata": {},
     "output_type": "execute_result"
    }
   ],
   "source": [
    "n_iterations = 1000  # Number of bootstrap iterations\n",
    "sample_size = len(unique_df)  # Size of each bootstrap sample\n",
    "ratios = []\n",
    "\n",
    "np.random.seed(314)\n",
    "\n",
    "for _ in range(n_iterations):\n",
    "    sample = unique_df.sample(n=sample_size, replace=True)\n",
    "    ratio = calculate_ratio(sample)\n",
    "    ratios.append(ratio)\n",
    "\n",
    "np.std(ratios)"
   ]
  },
  {
   "cell_type": "markdown",
   "id": "75dfb371-68d9-426c-84c1-82f4478d999c",
   "metadata": {},
   "source": [
    "### Proportion of Daughters"
   ]
  },
  {
   "cell_type": "code",
   "execution_count": 12,
   "id": "4e0f203f-cc37-40fd-ab05-562e228c2b70",
   "metadata": {},
   "outputs": [
    {
     "name": "stdout",
     "output_type": "stream",
     "text": [
      "(1615, 34)\n",
      "0.4618754104512619\n"
     ]
    },
    {
     "name": "stderr",
     "output_type": "stream",
     "text": [
      "/tmp/ipykernel_2694580/3768572925.py:2: SettingWithCopyWarning: \n",
      "A value is trying to be set on a copy of a slice from a DataFrame.\n",
      "Try using .loc[row_indexer,col_indexer] = value instead\n",
      "\n",
      "See the caveats in the documentation: https://pandas.pydata.org/pandas-docs/stable/user_guide/indexing.html#returning-a-view-versus-a-copy\n",
      "  unique_df['total_kids'] = unique_df['numberOfDaughters'] + unique_df['numberOfSons']\n",
      "/tmp/ipykernel_2694580/3768572925.py:7: SettingWithCopyWarning: \n",
      "A value is trying to be set on a copy of a slice from a DataFrame.\n",
      "Try using .loc[row_indexer,col_indexer] = value instead\n",
      "\n",
      "See the caveats in the documentation: https://pandas.pydata.org/pandas-docs/stable/user_guide/indexing.html#returning-a-view-versus-a-copy\n",
      "  df_kids['prop_daughter'] = df_kids['numberOfDaughters']/df_kids['total_kids']\n"
     ]
    }
   ],
   "source": [
    "# Filter on ls members with kids\n",
    "unique_df['total_kids'] = unique_df['numberOfDaughters'] + unique_df['numberOfSons']\n",
    "\n",
    "df_kids = unique_df[unique_df['total_kids'] > 0]\n",
    "print(df_kids.shape)\n",
    "\n",
    "df_kids['prop_daughter'] = df_kids['numberOfDaughters']/df_kids['total_kids']\n",
    "\n",
    "print(df_kids['prop_daughter'].mean())"
   ]
  },
  {
   "cell_type": "code",
   "execution_count": 26,
   "id": "5fce2c48-437d-445b-9e73-7f348ac1d01f",
   "metadata": {},
   "outputs": [
    {
     "data": {
      "text/plain": [
       "4444.0"
      ]
     },
     "execution_count": 26,
     "metadata": {},
     "output_type": "execute_result"
    }
   ],
   "source": [
    "unique_df['total_kids'].sum()"
   ]
  },
  {
   "cell_type": "code",
   "execution_count": 13,
   "id": "76dba210-ff05-4630-ac37-3f757772f846",
   "metadata": {},
   "outputs": [
    {
     "name": "stdout",
     "output_type": "stream",
     "text": [
      "t = -3.206693900354379\n",
      "p = 0.0013690005086026743\n"
     ]
    }
   ],
   "source": [
    "# Perform the t-test\n",
    "t, p = stats.ttest_1samp(df_kids['prop_daughter'], popmean = 0.4878)\n",
    "\n",
    "# Print the results\n",
    "print('t =', t)\n",
    "print('p =', p)"
   ]
  },
  {
   "cell_type": "code",
   "execution_count": 14,
   "id": "abcae96e-ef62-44ba-813f-9cde637c11c3",
   "metadata": {},
   "outputs": [
    {
     "data": {
      "text/plain": [
       "ls\n",
       "12    0.461634\n",
       "13    0.492887\n",
       "14    0.450286\n",
       "15    0.460336\n",
       "16    0.477449\n",
       "17    0.437431\n",
       "Name: prop_daughter, dtype: float64"
      ]
     },
     "execution_count": 14,
     "metadata": {},
     "output_type": "execute_result"
    }
   ],
   "source": [
    "df_kids.groupby('ls')['prop_daughter'].mean()"
   ]
  },
  {
   "cell_type": "code",
   "execution_count": 15,
   "id": "3ddb68d4-3185-4eb6-b87b-ba06f335ced7",
   "metadata": {},
   "outputs": [
    {
     "name": "stdout",
     "output_type": "stream",
     "text": [
      "0.44812636461851124\n",
      "t = -3.0021821529373365\n",
      "p = 0.0027975426123936996\n"
     ]
    }
   ],
   "source": [
    "df_kids_bjp = df_kids[df_kids['partySname'] == 'BJP']\n",
    "# Perform the t-test\n",
    "t, p = stats.ttest_1samp(df_kids_bjp['prop_daughter'], popmean = 0.4878)\n",
    "\n",
    "print(df_kids_bjp['prop_daughter'].mean())\n",
    "# Print the results\n",
    "print('t =', t)\n",
    "print('p =', p)"
   ]
  },
  {
   "cell_type": "code",
   "execution_count": 16,
   "id": "8f0bfb5a-8f04-4f8e-8f67-fbb6f4e15aca",
   "metadata": {},
   "outputs": [
    {
     "name": "stdout",
     "output_type": "stream",
     "text": [
      "0.47868814192343606\n",
      "t = -0.5261361884605241\n",
      "p = 0.5991376145078726\n"
     ]
    }
   ],
   "source": [
    "df_kids_inc = df_kids[df_kids['partySname'] == 'INC']\n",
    "# Perform the t-test\n",
    "t, p = stats.ttest_1samp(df_kids_inc['prop_daughter'], popmean = 0.4878)\n",
    "\n",
    "print(df_kids_inc['prop_daughter'].mean())\n",
    "# Print the results\n",
    "print('t =', t)\n",
    "print('p =', p)"
   ]
  },
  {
   "cell_type": "code",
   "execution_count": 17,
   "id": "be143b23-3b3d-4913-aaaf-6a851afe5830",
   "metadata": {},
   "outputs": [
    {
     "name": "stdout",
     "output_type": "stream",
     "text": [
      "0.44812636461851124\n",
      "0.46943606617311034\n",
      "t-statistic: -1.2613660340458093\n",
      "p-value: 0.20735938907130408\n"
     ]
    }
   ],
   "source": [
    "# Create two DataFrames for the two groups\n",
    "bjp    = df_kids[df_kids['partySname'] == 'BJP']\n",
    "others = df_kids[~ (df_kids['partySname'] == 'BJP')]\n",
    "\n",
    "# Perform the t-test\n",
    "t_statistic, p_value = stats.ttest_ind(bjp['prop_daughter'], others['prop_daughter'])\n",
    "\n",
    "# Print the results\n",
    "print(bjp['prop_daughter'].mean())\n",
    "print(others['prop_daughter'].mean())\n",
    "print('t-statistic:', t_statistic)\n",
    "print('p-value:', p_value)"
   ]
  },
  {
   "cell_type": "markdown",
   "id": "964a9acd-9721-4fd6-8b7a-934387815192",
   "metadata": {},
   "source": [
    "### Correlation Between Number of Kids and Proportion Daughters \n",
    "\n",
    "For more info., see here: https://github.com/soodoku/prop_male/"
   ]
  },
  {
   "cell_type": "code",
   "execution_count": 18,
   "id": "d2a3e41b-06cb-4cc9-a4cd-f5066d921fee",
   "metadata": {},
   "outputs": [
    {
     "data": {
      "text/html": [
       "<div>\n",
       "<style scoped>\n",
       "    .dataframe tbody tr th:only-of-type {\n",
       "        vertical-align: middle;\n",
       "    }\n",
       "\n",
       "    .dataframe tbody tr th {\n",
       "        vertical-align: top;\n",
       "    }\n",
       "\n",
       "    .dataframe thead th {\n",
       "        text-align: right;\n",
       "    }\n",
       "</style>\n",
       "<table border=\"1\" class=\"dataframe\">\n",
       "  <thead>\n",
       "    <tr style=\"text-align: right;\">\n",
       "      <th></th>\n",
       "      <th></th>\n",
       "      <th>total_kids</th>\n",
       "      <th>prop_daughter</th>\n",
       "    </tr>\n",
       "    <tr>\n",
       "      <th>ls</th>\n",
       "      <th></th>\n",
       "      <th></th>\n",
       "      <th></th>\n",
       "    </tr>\n",
       "  </thead>\n",
       "  <tbody>\n",
       "    <tr>\n",
       "      <th rowspan=\"2\" valign=\"top\">12</th>\n",
       "      <th>total_kids</th>\n",
       "      <td>1.000000</td>\n",
       "      <td>0.142198</td>\n",
       "    </tr>\n",
       "    <tr>\n",
       "      <th>prop_daughter</th>\n",
       "      <td>0.142198</td>\n",
       "      <td>1.000000</td>\n",
       "    </tr>\n",
       "    <tr>\n",
       "      <th rowspan=\"2\" valign=\"top\">13</th>\n",
       "      <th>total_kids</th>\n",
       "      <td>1.000000</td>\n",
       "      <td>0.178687</td>\n",
       "    </tr>\n",
       "    <tr>\n",
       "      <th>prop_daughter</th>\n",
       "      <td>0.178687</td>\n",
       "      <td>1.000000</td>\n",
       "    </tr>\n",
       "    <tr>\n",
       "      <th rowspan=\"2\" valign=\"top\">14</th>\n",
       "      <th>total_kids</th>\n",
       "      <td>1.000000</td>\n",
       "      <td>0.054113</td>\n",
       "    </tr>\n",
       "    <tr>\n",
       "      <th>prop_daughter</th>\n",
       "      <td>0.054113</td>\n",
       "      <td>1.000000</td>\n",
       "    </tr>\n",
       "    <tr>\n",
       "      <th rowspan=\"2\" valign=\"top\">15</th>\n",
       "      <th>total_kids</th>\n",
       "      <td>1.000000</td>\n",
       "      <td>0.139038</td>\n",
       "    </tr>\n",
       "    <tr>\n",
       "      <th>prop_daughter</th>\n",
       "      <td>0.139038</td>\n",
       "      <td>1.000000</td>\n",
       "    </tr>\n",
       "    <tr>\n",
       "      <th rowspan=\"2\" valign=\"top\">16</th>\n",
       "      <th>total_kids</th>\n",
       "      <td>1.000000</td>\n",
       "      <td>0.002264</td>\n",
       "    </tr>\n",
       "    <tr>\n",
       "      <th>prop_daughter</th>\n",
       "      <td>0.002264</td>\n",
       "      <td>1.000000</td>\n",
       "    </tr>\n",
       "    <tr>\n",
       "      <th rowspan=\"2\" valign=\"top\">17</th>\n",
       "      <th>total_kids</th>\n",
       "      <td>1.000000</td>\n",
       "      <td>0.163193</td>\n",
       "    </tr>\n",
       "    <tr>\n",
       "      <th>prop_daughter</th>\n",
       "      <td>0.163193</td>\n",
       "      <td>1.000000</td>\n",
       "    </tr>\n",
       "  </tbody>\n",
       "</table>\n",
       "</div>"
      ],
      "text/plain": [
       "                  total_kids  prop_daughter\n",
       "ls                                         \n",
       "12 total_kids       1.000000       0.142198\n",
       "   prop_daughter    0.142198       1.000000\n",
       "13 total_kids       1.000000       0.178687\n",
       "   prop_daughter    0.178687       1.000000\n",
       "14 total_kids       1.000000       0.054113\n",
       "   prop_daughter    0.054113       1.000000\n",
       "15 total_kids       1.000000       0.139038\n",
       "   prop_daughter    0.139038       1.000000\n",
       "16 total_kids       1.000000       0.002264\n",
       "   prop_daughter    0.002264       1.000000\n",
       "17 total_kids       1.000000       0.163193\n",
       "   prop_daughter    0.163193       1.000000"
      ]
     },
     "execution_count": 18,
     "metadata": {},
     "output_type": "execute_result"
    }
   ],
   "source": [
    "df_kids[['ls', 'total_kids', 'prop_daughter']].groupby('ls').corr()"
   ]
  },
  {
   "cell_type": "markdown",
   "id": "22335885-53aa-4f0b-b0f2-56ec81b2aacd",
   "metadata": {},
   "source": [
    "### Mean Prop Daughter by Number of Kids"
   ]
  },
  {
   "cell_type": "code",
   "execution_count": 19,
   "id": "5bad05a1-7a00-4f58-9233-8923e6c9c6b8",
   "metadata": {},
   "outputs": [
    {
     "data": {
      "text/html": [
       "<div>\n",
       "<style scoped>\n",
       "    .dataframe tbody tr th:only-of-type {\n",
       "        vertical-align: middle;\n",
       "    }\n",
       "\n",
       "    .dataframe tbody tr th {\n",
       "        vertical-align: top;\n",
       "    }\n",
       "\n",
       "    .dataframe thead tr th {\n",
       "        text-align: left;\n",
       "    }\n",
       "</style>\n",
       "<table border=\"1\" class=\"dataframe\">\n",
       "  <thead>\n",
       "    <tr>\n",
       "      <th></th>\n",
       "      <th>total_kids</th>\n",
       "      <th colspan=\"2\" halign=\"left\">prop_daughter</th>\n",
       "    </tr>\n",
       "    <tr>\n",
       "      <th></th>\n",
       "      <th></th>\n",
       "      <th>mean</th>\n",
       "      <th>count</th>\n",
       "    </tr>\n",
       "  </thead>\n",
       "  <tbody>\n",
       "    <tr>\n",
       "      <th>0</th>\n",
       "      <td>1.0</td>\n",
       "      <td>0.458763</td>\n",
       "      <td>194</td>\n",
       "    </tr>\n",
       "    <tr>\n",
       "      <th>1</th>\n",
       "      <td>2.0</td>\n",
       "      <td>0.422619</td>\n",
       "      <td>672</td>\n",
       "    </tr>\n",
       "    <tr>\n",
       "      <th>2</th>\n",
       "      <td>3.0</td>\n",
       "      <td>0.465789</td>\n",
       "      <td>380</td>\n",
       "    </tr>\n",
       "    <tr>\n",
       "      <th>3</th>\n",
       "      <td>4.0</td>\n",
       "      <td>0.515000</td>\n",
       "      <td>200</td>\n",
       "    </tr>\n",
       "    <tr>\n",
       "      <th>4</th>\n",
       "      <td>5.0</td>\n",
       "      <td>0.546154</td>\n",
       "      <td>104</td>\n",
       "    </tr>\n",
       "    <tr>\n",
       "      <th>5</th>\n",
       "      <td>6.0</td>\n",
       "      <td>0.570707</td>\n",
       "      <td>33</td>\n",
       "    </tr>\n",
       "    <tr>\n",
       "      <th>6</th>\n",
       "      <td>7.0</td>\n",
       "      <td>0.529412</td>\n",
       "      <td>17</td>\n",
       "    </tr>\n",
       "    <tr>\n",
       "      <th>7</th>\n",
       "      <td>8.0</td>\n",
       "      <td>0.545455</td>\n",
       "      <td>11</td>\n",
       "    </tr>\n",
       "    <tr>\n",
       "      <th>8</th>\n",
       "      <td>9.0</td>\n",
       "      <td>0.666667</td>\n",
       "      <td>2</td>\n",
       "    </tr>\n",
       "    <tr>\n",
       "      <th>9</th>\n",
       "      <td>11.0</td>\n",
       "      <td>0.545455</td>\n",
       "      <td>1</td>\n",
       "    </tr>\n",
       "    <tr>\n",
       "      <th>10</th>\n",
       "      <td>12.0</td>\n",
       "      <td>0.416667</td>\n",
       "      <td>1</td>\n",
       "    </tr>\n",
       "  </tbody>\n",
       "</table>\n",
       "</div>"
      ],
      "text/plain": [
       "   total_kids prop_daughter      \n",
       "                       mean count\n",
       "0         1.0      0.458763   194\n",
       "1         2.0      0.422619   672\n",
       "2         3.0      0.465789   380\n",
       "3         4.0      0.515000   200\n",
       "4         5.0      0.546154   104\n",
       "5         6.0      0.570707    33\n",
       "6         7.0      0.529412    17\n",
       "7         8.0      0.545455    11\n",
       "8         9.0      0.666667     2\n",
       "9        11.0      0.545455     1\n",
       "10       12.0      0.416667     1"
      ]
     },
     "execution_count": 19,
     "metadata": {},
     "output_type": "execute_result"
    }
   ],
   "source": [
    "df_kids[['total_kids', 'prop_daughter']]\\\n",
    "                            .groupby(['total_kids'])\\\n",
    "                            .agg({'prop_daughter': ['mean', 'count']}).reset_index()"
   ]
  },
  {
   "cell_type": "markdown",
   "id": "a5199628-f64f-4ee4-a834-8820df1dfa41",
   "metadata": {},
   "source": [
    "### Average number of kids"
   ]
  },
  {
   "cell_type": "code",
   "execution_count": 20,
   "id": "29e64306-f3df-41b7-ae13-987cc9332a23",
   "metadata": {},
   "outputs": [
    {
     "data": {
      "text/plain": [
       "2.4896358543417367"
      ]
     },
     "execution_count": 20,
     "metadata": {},
     "output_type": "execute_result"
    }
   ],
   "source": [
    "unique_df['total_kids'].mean()"
   ]
  },
  {
   "cell_type": "code",
   "execution_count": 21,
   "id": "18e71e98-7da7-41f8-9ccc-b2e92999172e",
   "metadata": {},
   "outputs": [
    {
     "data": {
      "text/plain": [
       "ls\n",
       "12    2.818462\n",
       "13    2.821839\n",
       "14    2.656934\n",
       "15    2.490783\n",
       "16    2.201954\n",
       "17    2.036900\n",
       "Name: total_kids, dtype: float64"
      ]
     },
     "execution_count": 21,
     "metadata": {},
     "output_type": "execute_result"
    }
   ],
   "source": [
    "unique_df.groupby('ls')['total_kids'].mean()"
   ]
  },
  {
   "cell_type": "markdown",
   "id": "5dfa0a63-c891-4494-a0d6-5221a16ffde9",
   "metadata": {},
   "source": [
    "### Sex Ratios"
   ]
  },
  {
   "cell_type": "code",
   "execution_count": 22,
   "id": "37629377-3d84-45a4-9148-cbbc1944c3d6",
   "metadata": {},
   "outputs": [
    {
     "data": {
      "text/html": [
       "<div>\n",
       "<style scoped>\n",
       "    .dataframe tbody tr th:only-of-type {\n",
       "        vertical-align: middle;\n",
       "    }\n",
       "\n",
       "    .dataframe tbody tr th {\n",
       "        vertical-align: top;\n",
       "    }\n",
       "\n",
       "    .dataframe thead th {\n",
       "        text-align: right;\n",
       "    }\n",
       "</style>\n",
       "<table border=\"1\" class=\"dataframe\">\n",
       "  <thead>\n",
       "    <tr style=\"text-align: right;\">\n",
       "      <th></th>\n",
       "      <th>ls</th>\n",
       "      <th>numberOfSons</th>\n",
       "      <th>numberOfDaughters</th>\n",
       "      <th>sex_ratio</th>\n",
       "    </tr>\n",
       "  </thead>\n",
       "  <tbody>\n",
       "    <tr>\n",
       "      <th>0</th>\n",
       "      <td>12</td>\n",
       "      <td>472.0</td>\n",
       "      <td>444.0</td>\n",
       "      <td>1.063063</td>\n",
       "    </tr>\n",
       "    <tr>\n",
       "      <th>1</th>\n",
       "      <td>13</td>\n",
       "      <td>775.0</td>\n",
       "      <td>742.0</td>\n",
       "      <td>1.044474</td>\n",
       "    </tr>\n",
       "    <tr>\n",
       "      <th>2</th>\n",
       "      <td>14</td>\n",
       "      <td>755.0</td>\n",
       "      <td>676.0</td>\n",
       "      <td>1.116864</td>\n",
       "    </tr>\n",
       "    <tr>\n",
       "      <th>3</th>\n",
       "      <td>15</td>\n",
       "      <td>655.0</td>\n",
       "      <td>630.0</td>\n",
       "      <td>1.039683</td>\n",
       "    </tr>\n",
       "    <tr>\n",
       "      <th>4</th>\n",
       "      <td>16</td>\n",
       "      <td>609.0</td>\n",
       "      <td>552.0</td>\n",
       "      <td>1.103261</td>\n",
       "    </tr>\n",
       "    <tr>\n",
       "      <th>5</th>\n",
       "      <td>17</td>\n",
       "      <td>614.0</td>\n",
       "      <td>538.0</td>\n",
       "      <td>1.141264</td>\n",
       "    </tr>\n",
       "  </tbody>\n",
       "</table>\n",
       "</div>"
      ],
      "text/plain": [
       "   ls  numberOfSons  numberOfDaughters  sex_ratio\n",
       "0  12         472.0              444.0   1.063063\n",
       "1  13         775.0              742.0   1.044474\n",
       "2  14         755.0              676.0   1.116864\n",
       "3  15         655.0              630.0   1.039683\n",
       "4  16         609.0              552.0   1.103261\n",
       "5  17         614.0              538.0   1.141264"
      ]
     },
     "execution_count": 22,
     "metadata": {},
     "output_type": "execute_result"
    }
   ],
   "source": [
    "# Not using unique because I am grouping by LS\n",
    "adf = df.groupby('ls')[['numberOfSons', 'numberOfDaughters']].sum().reset_index()\n",
    "adf['sex_ratio'] = adf['numberOfSons']/adf['numberOfDaughters']\n",
    "adf"
   ]
  },
  {
   "cell_type": "markdown",
   "id": "4efa4c2b-820d-4b31-baf9-b3f6114d0368",
   "metadata": {},
   "source": [
    "#### By Party"
   ]
  },
  {
   "cell_type": "code",
   "execution_count": 27,
   "id": "05842303-b01f-4d74-886e-3909f5492178",
   "metadata": {},
   "outputs": [
    {
     "data": {
      "text/html": [
       "<div>\n",
       "<style scoped>\n",
       "    .dataframe tbody tr th:only-of-type {\n",
       "        vertical-align: middle;\n",
       "    }\n",
       "\n",
       "    .dataframe tbody tr th {\n",
       "        vertical-align: top;\n",
       "    }\n",
       "\n",
       "    .dataframe thead th {\n",
       "        text-align: right;\n",
       "    }\n",
       "</style>\n",
       "<table border=\"1\" class=\"dataframe\">\n",
       "  <thead>\n",
       "    <tr style=\"text-align: right;\">\n",
       "      <th></th>\n",
       "      <th>partySname</th>\n",
       "      <th>numberOfSons</th>\n",
       "      <th>numberOfDaughters</th>\n",
       "      <th>sex_ratio</th>\n",
       "    </tr>\n",
       "  </thead>\n",
       "  <tbody>\n",
       "    <tr>\n",
       "      <th>17</th>\n",
       "      <td>BSP</td>\n",
       "      <td>103.0</td>\n",
       "      <td>71.0</td>\n",
       "      <td>1.450704</td>\n",
       "    </tr>\n",
       "    <tr>\n",
       "      <th>31</th>\n",
       "      <td>JD(U)</td>\n",
       "      <td>66.0</td>\n",
       "      <td>47.0</td>\n",
       "      <td>1.404255</td>\n",
       "    </tr>\n",
       "    <tr>\n",
       "      <th>15</th>\n",
       "      <td>BJP</td>\n",
       "      <td>858.0</td>\n",
       "      <td>751.0</td>\n",
       "      <td>1.142477</td>\n",
       "    </tr>\n",
       "    <tr>\n",
       "      <th>20</th>\n",
       "      <td>CPI(M)</td>\n",
       "      <td>74.0</td>\n",
       "      <td>67.0</td>\n",
       "      <td>1.104478</td>\n",
       "    </tr>\n",
       "    <tr>\n",
       "      <th>59</th>\n",
       "      <td>SP</td>\n",
       "      <td>80.0</td>\n",
       "      <td>75.0</td>\n",
       "      <td>1.066667</td>\n",
       "    </tr>\n",
       "    <tr>\n",
       "      <th>63</th>\n",
       "      <td>TDP</td>\n",
       "      <td>64.0</td>\n",
       "      <td>61.0</td>\n",
       "      <td>1.049180</td>\n",
       "    </tr>\n",
       "    <tr>\n",
       "      <th>24</th>\n",
       "      <td>INC</td>\n",
       "      <td>470.0</td>\n",
       "      <td>493.0</td>\n",
       "      <td>0.953347</td>\n",
       "    </tr>\n",
       "    <tr>\n",
       "      <th>22</th>\n",
       "      <td>DMK</td>\n",
       "      <td>49.0</td>\n",
       "      <td>52.0</td>\n",
       "      <td>0.942308</td>\n",
       "    </tr>\n",
       "    <tr>\n",
       "      <th>4</th>\n",
       "      <td>AIADMK</td>\n",
       "      <td>57.0</td>\n",
       "      <td>61.0</td>\n",
       "      <td>0.934426</td>\n",
       "    </tr>\n",
       "  </tbody>\n",
       "</table>\n",
       "</div>"
      ],
      "text/plain": [
       "   partySname  numberOfSons  numberOfDaughters  sex_ratio\n",
       "17        BSP         103.0               71.0   1.450704\n",
       "31      JD(U)          66.0               47.0   1.404255\n",
       "15        BJP         858.0              751.0   1.142477\n",
       "20     CPI(M)          74.0               67.0   1.104478\n",
       "59         SP          80.0               75.0   1.066667\n",
       "63        TDP          64.0               61.0   1.049180\n",
       "24        INC         470.0              493.0   0.953347\n",
       "22        DMK          49.0               52.0   0.942308\n",
       "4      AIADMK          57.0               61.0   0.934426"
      ]
     },
     "execution_count": 27,
     "metadata": {},
     "output_type": "execute_result"
    }
   ],
   "source": [
    "adf = unique_df.groupby('partySname')[['numberOfSons', 'numberOfDaughters']].sum().reset_index()\n",
    "adf['sex_ratio'] = adf['numberOfSons']/adf['numberOfDaughters']\n",
    "pdf = adf[(adf['numberOfDaughters'] + adf['numberOfSons']) > 100].sort_values('sex_ratio', ascending = False)[0:10]\n",
    "pdf"
   ]
  },
  {
   "cell_type": "code",
   "execution_count": 24,
   "id": "5a9d6ad8-64fe-4c6e-8fc2-e505afc46354",
   "metadata": {},
   "outputs": [
    {
     "name": "stdout",
     "output_type": "stream",
     "text": [
      "chi2: 0.0\n",
      "p-value: 1.0\n"
     ]
    }
   ],
   "source": [
    "# Perform the chi-square test\n",
    "chi2, p_value, dof, expected = stats.chi2_contingency(pd.crosstab(pdf['numberOfSons'], ['numberOfDaughters']))\n",
    "\n",
    "# Print the results\n",
    "print('chi2:', chi2)\n",
    "print('p-value:', p_value)"
   ]
  },
  {
   "cell_type": "code",
   "execution_count": 25,
   "id": "10d57cc5-e898-4950-90bd-a0ce2fd31f10",
   "metadata": {},
   "outputs": [
    {
     "data": {
      "text/html": [
       "<div>\n",
       "<style scoped>\n",
       "    .dataframe tbody tr th:only-of-type {\n",
       "        vertical-align: middle;\n",
       "    }\n",
       "\n",
       "    .dataframe tbody tr th {\n",
       "        vertical-align: top;\n",
       "    }\n",
       "\n",
       "    .dataframe thead th {\n",
       "        text-align: right;\n",
       "    }\n",
       "</style>\n",
       "<table border=\"1\" class=\"dataframe\">\n",
       "  <thead>\n",
       "    <tr style=\"text-align: right;\">\n",
       "      <th></th>\n",
       "      <th>ls</th>\n",
       "      <th>partySname</th>\n",
       "      <th>numberOfSons</th>\n",
       "      <th>numberOfDaughters</th>\n",
       "      <th>sex_ratio</th>\n",
       "    </tr>\n",
       "  </thead>\n",
       "  <tbody>\n",
       "    <tr>\n",
       "      <th>221</th>\n",
       "      <td>17</td>\n",
       "      <td>BJP</td>\n",
       "      <td>364.0</td>\n",
       "      <td>315.0</td>\n",
       "      <td>1.155556</td>\n",
       "    </tr>\n",
       "    <tr>\n",
       "      <th>185</th>\n",
       "      <td>16</td>\n",
       "      <td>BJP</td>\n",
       "      <td>351.0</td>\n",
       "      <td>312.0</td>\n",
       "      <td>1.125000</td>\n",
       "    </tr>\n",
       "    <tr>\n",
       "      <th>58</th>\n",
       "      <td>13</td>\n",
       "      <td>BJP</td>\n",
       "      <td>286.0</td>\n",
       "      <td>268.0</td>\n",
       "      <td>1.067164</td>\n",
       "    </tr>\n",
       "    <tr>\n",
       "      <th>153</th>\n",
       "      <td>15</td>\n",
       "      <td>INC</td>\n",
       "      <td>231.0</td>\n",
       "      <td>225.0</td>\n",
       "      <td>1.026667</td>\n",
       "    </tr>\n",
       "    <tr>\n",
       "      <th>102</th>\n",
       "      <td>14</td>\n",
       "      <td>BJP</td>\n",
       "      <td>218.0</td>\n",
       "      <td>190.0</td>\n",
       "      <td>1.147368</td>\n",
       "    </tr>\n",
       "    <tr>\n",
       "      <th>9</th>\n",
       "      <td>12</td>\n",
       "      <td>BJP</td>\n",
       "      <td>202.0</td>\n",
       "      <td>188.0</td>\n",
       "      <td>1.074468</td>\n",
       "    </tr>\n",
       "    <tr>\n",
       "      <th>109</th>\n",
       "      <td>14</td>\n",
       "      <td>INC</td>\n",
       "      <td>200.0</td>\n",
       "      <td>194.0</td>\n",
       "      <td>1.030928</td>\n",
       "    </tr>\n",
       "    <tr>\n",
       "      <th>145</th>\n",
       "      <td>15</td>\n",
       "      <td>BJP</td>\n",
       "      <td>170.0</td>\n",
       "      <td>155.0</td>\n",
       "      <td>1.096774</td>\n",
       "    </tr>\n",
       "    <tr>\n",
       "      <th>65</th>\n",
       "      <td>13</td>\n",
       "      <td>INC</td>\n",
       "      <td>157.0</td>\n",
       "      <td>190.0</td>\n",
       "      <td>0.826316</td>\n",
       "    </tr>\n",
       "    <tr>\n",
       "      <th>17</th>\n",
       "      <td>12</td>\n",
       "      <td>INC</td>\n",
       "      <td>93.0</td>\n",
       "      <td>104.0</td>\n",
       "      <td>0.894231</td>\n",
       "    </tr>\n",
       "    <tr>\n",
       "      <th>106</th>\n",
       "      <td>14</td>\n",
       "      <td>CPI(M)</td>\n",
       "      <td>49.0</td>\n",
       "      <td>36.0</td>\n",
       "      <td>1.361111</td>\n",
       "    </tr>\n",
       "    <tr>\n",
       "      <th>226</th>\n",
       "      <td>17</td>\n",
       "      <td>INC</td>\n",
       "      <td>49.0</td>\n",
       "      <td>43.0</td>\n",
       "      <td>1.139535</td>\n",
       "    </tr>\n",
       "    <tr>\n",
       "      <th>188</th>\n",
       "      <td>16</td>\n",
       "      <td>INC</td>\n",
       "      <td>43.0</td>\n",
       "      <td>44.0</td>\n",
       "      <td>0.977273</td>\n",
       "    </tr>\n",
       "    <tr>\n",
       "      <th>132</th>\n",
       "      <td>14</td>\n",
       "      <td>SP</td>\n",
       "      <td>43.0</td>\n",
       "      <td>43.0</td>\n",
       "      <td>1.000000</td>\n",
       "    </tr>\n",
       "    <tr>\n",
       "      <th>62</th>\n",
       "      <td>13</td>\n",
       "      <td>CPI(M)</td>\n",
       "      <td>42.0</td>\n",
       "      <td>38.0</td>\n",
       "      <td>1.105263</td>\n",
       "    </tr>\n",
       "    <tr>\n",
       "      <th>95</th>\n",
       "      <td>13</td>\n",
       "      <td>TDP</td>\n",
       "      <td>40.0</td>\n",
       "      <td>36.0</td>\n",
       "      <td>1.111111</td>\n",
       "    </tr>\n",
       "    <tr>\n",
       "      <th>104</th>\n",
       "      <td>14</td>\n",
       "      <td>BSP</td>\n",
       "      <td>39.0</td>\n",
       "      <td>23.0</td>\n",
       "      <td>1.695652</td>\n",
       "    </tr>\n",
       "    <tr>\n",
       "      <th>13</th>\n",
       "      <td>12</td>\n",
       "      <td>CPI(M)</td>\n",
       "      <td>34.0</td>\n",
       "      <td>26.0</td>\n",
       "      <td>1.307692</td>\n",
       "    </tr>\n",
       "    <tr>\n",
       "      <th>177</th>\n",
       "      <td>16</td>\n",
       "      <td>AIADMK</td>\n",
       "      <td>32.0</td>\n",
       "      <td>42.0</td>\n",
       "      <td>0.761905</td>\n",
       "    </tr>\n",
       "    <tr>\n",
       "      <th>147</th>\n",
       "      <td>15</td>\n",
       "      <td>BSP</td>\n",
       "      <td>32.0</td>\n",
       "      <td>31.0</td>\n",
       "      <td>1.032258</td>\n",
       "    </tr>\n",
       "  </tbody>\n",
       "</table>\n",
       "</div>"
      ],
      "text/plain": [
       "     ls partySname  numberOfSons  numberOfDaughters  sex_ratio\n",
       "221  17        BJP         364.0              315.0   1.155556\n",
       "185  16        BJP         351.0              312.0   1.125000\n",
       "58   13        BJP         286.0              268.0   1.067164\n",
       "153  15        INC         231.0              225.0   1.026667\n",
       "102  14        BJP         218.0              190.0   1.147368\n",
       "9    12        BJP         202.0              188.0   1.074468\n",
       "109  14        INC         200.0              194.0   1.030928\n",
       "145  15        BJP         170.0              155.0   1.096774\n",
       "65   13        INC         157.0              190.0   0.826316\n",
       "17   12        INC          93.0              104.0   0.894231\n",
       "106  14     CPI(M)          49.0               36.0   1.361111\n",
       "226  17        INC          49.0               43.0   1.139535\n",
       "188  16        INC          43.0               44.0   0.977273\n",
       "132  14         SP          43.0               43.0   1.000000\n",
       "62   13     CPI(M)          42.0               38.0   1.105263\n",
       "95   13        TDP          40.0               36.0   1.111111\n",
       "104  14        BSP          39.0               23.0   1.695652\n",
       "13   12     CPI(M)          34.0               26.0   1.307692\n",
       "177  16     AIADMK          32.0               42.0   0.761905\n",
       "147  15        BSP          32.0               31.0   1.032258"
      ]
     },
     "execution_count": 25,
     "metadata": {},
     "output_type": "execute_result"
    }
   ],
   "source": [
    "adf = df.groupby(['ls', 'partySname'])[['numberOfSons', 'numberOfDaughters']].sum().reset_index()\n",
    "adf['sex_ratio'] = adf['numberOfSons']/adf['numberOfDaughters']\n",
    "adf.sort_values('numberOfSons', ascending = False)[0:20]"
   ]
  },
  {
   "cell_type": "code",
   "execution_count": null,
   "id": "bd5222df-e1ba-46bb-aead-71482af6ce3d",
   "metadata": {},
   "outputs": [],
   "source": []
  }
 ],
 "metadata": {
  "kernelspec": {
   "display_name": "Python 3 (ipykernel)",
   "language": "python",
   "name": "python3"
  },
  "language_info": {
   "codemirror_mode": {
    "name": "ipython",
    "version": 3
   },
   "file_extension": ".py",
   "mimetype": "text/x-python",
   "name": "python",
   "nbconvert_exporter": "python",
   "pygments_lexer": "ipython3",
   "version": "3.8.10"
  }
 },
 "nbformat": 4,
 "nbformat_minor": 5
}
