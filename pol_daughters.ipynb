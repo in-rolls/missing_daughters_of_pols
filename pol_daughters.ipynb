{
 "cells": [
  {
   "cell_type": "markdown",
   "id": "dad68a68-bb22-4fa1-bba8-614bb445a040",
   "metadata": {},
   "source": [
    "### Sex Ratio of Children of Indian Politicians"
   ]
  },
  {
   "cell_type": "code",
   "execution_count": 1,
   "id": "962b1e50-5c7e-49b6-ac6d-2d3d0b9651c8",
   "metadata": {},
   "outputs": [
    {
     "name": "stdout",
     "output_type": "stream",
     "text": [
      "ls_17.json\n",
      "ls_16.json\n",
      "ls_13.json\n",
      "ls_14.json\n",
      "ls_15.json\n",
      "ls_12.json\n"
     ]
    }
   ],
   "source": [
    "import os\n",
    "import json\n",
    "import requests\n",
    "import pandas as pd\n",
    "import scipy.stats as stats\n",
    "\n",
    "df_list = []\n",
    "\n",
    "for filename in os.listdir(\"data/\"):\n",
    "    print(filename)\n",
    "    with open(os.path.join(\"data/\", filename), \"r\") as f:\n",
    "            data = json.load(f)\n",
    "    df = pd.DataFrame(data['membersDtoList'])\n",
    "    df['ls'] = filename[3:-5]\n",
    "    df_list.append(df)\n",
    "\n",
    "df = pd.concat(df_list)"
   ]
  },
  {
   "cell_type": "code",
   "execution_count": 2,
   "id": "58900cc2-2c09-4c7e-8b37-fa64d1f8062b",
   "metadata": {},
   "outputs": [
    {
     "data": {
      "text/plain": [
       "(3196, 33)"
      ]
     },
     "execution_count": 2,
     "metadata": {},
     "output_type": "execute_result"
    }
   ],
   "source": [
    "df.shape"
   ]
  },
  {
   "cell_type": "code",
   "execution_count": 3,
   "id": "dca8ca72-9dee-41e8-acb4-7b2aae5b25a0",
   "metadata": {},
   "outputs": [
    {
     "data": {
      "text/plain": [
       "(2983, 33)"
      ]
     },
     "execution_count": 3,
     "metadata": {},
     "output_type": "execute_result"
    }
   ],
   "source": [
    "## Filter out NaNs\n",
    "df_small = df.loc[~ (df['numberOfSons'].isna() | df['numberOfDaughters'].isna())]\n",
    "df_small.shape"
   ]
  },
  {
   "cell_type": "code",
   "execution_count": 4,
   "id": "4d131977-fddc-422d-bb87-c2e5fda816c4",
   "metadata": {},
   "outputs": [
    {
     "data": {
      "text/plain": [
       "1.0831937465103294"
      ]
     },
     "execution_count": 4,
     "metadata": {},
     "output_type": "execute_result"
    }
   ],
   "source": [
    "sum(df_small['numberOfSons'])/sum(df_small['numberOfDaughters'])"
   ]
  },
  {
   "cell_type": "code",
   "execution_count": 5,
   "id": "4e0f203f-cc37-40fd-ab05-562e228c2b70",
   "metadata": {},
   "outputs": [
    {
     "name": "stdout",
     "output_type": "stream",
     "text": [
      "0.4629706140322832\n",
      "t = -3.978054398286268\n",
      "p = 7.130397870998785e-05\n"
     ]
    },
    {
     "name": "stderr",
     "output_type": "stream",
     "text": [
      "/tmp/ipykernel_1072539/345573841.py:5: SettingWithCopyWarning: \n",
      "A value is trying to be set on a copy of a slice from a DataFrame.\n",
      "Try using .loc[row_indexer,col_indexer] = value instead\n",
      "\n",
      "See the caveats in the documentation: https://pandas.pydata.org/pandas-docs/stable/user_guide/indexing.html#returning-a-view-versus-a-copy\n",
      "  df_kids['prop_daughter'] = df_kids.loc[:, 'numberOfDaughters'] / df_kids.loc[:, 'total_kids']\n"
     ]
    }
   ],
   "source": [
    "# Filter on ls members with kids\n",
    "df['total_kids'] = df['numberOfDaughters'] + df['numberOfSons']\n",
    "\n",
    "df_kids = df[df['total_kids'] > 0]\n",
    "df_kids['prop_daughter'] = df_kids.loc[:, 'numberOfDaughters'] / df_kids.loc[:, 'total_kids']\n",
    "\n",
    "print(df_kids['prop_daughter'].mean())\n",
    "\n",
    "# Perform the t-test\n",
    "t, p = stats.ttest_1samp(df_kids['prop_daughter'], popmean = 0.4878)\n",
    "\n",
    "# Print the results\n",
    "print('t =', t)\n",
    "print('p =', p)"
   ]
  },
  {
   "cell_type": "code",
   "execution_count": 6,
   "id": "29e64306-f3df-41b7-ae13-987cc9332a23",
   "metadata": {},
   "outputs": [
    {
     "data": {
      "text/plain": [
       "2.5015085484411665"
      ]
     },
     "execution_count": 6,
     "metadata": {},
     "output_type": "execute_result"
    }
   ],
   "source": [
    "df['total_kids'].mean()"
   ]
  },
  {
   "cell_type": "code",
   "execution_count": 7,
   "id": "f7f88651-1682-4eea-93dd-62ceb3509dc1",
   "metadata": {},
   "outputs": [
    {
     "data": {
      "text/plain": [
       "ls\n",
       "12    0.461634\n",
       "13    0.464026\n",
       "14    0.462615\n",
       "15    0.469007\n",
       "16    0.469267\n",
       "17    0.451103\n",
       "Name: prop_daughter, dtype: float64"
      ]
     },
     "execution_count": 7,
     "metadata": {},
     "output_type": "execute_result"
    }
   ],
   "source": [
    "df_kids.groupby('ls')['prop_daughter'].mean()"
   ]
  },
  {
   "cell_type": "code",
   "execution_count": 10,
   "id": "37629377-3d84-45a4-9148-cbbc1944c3d6",
   "metadata": {},
   "outputs": [
    {
     "data": {
      "text/html": [
       "<div>\n",
       "<style scoped>\n",
       "    .dataframe tbody tr th:only-of-type {\n",
       "        vertical-align: middle;\n",
       "    }\n",
       "\n",
       "    .dataframe tbody tr th {\n",
       "        vertical-align: top;\n",
       "    }\n",
       "\n",
       "    .dataframe thead th {\n",
       "        text-align: right;\n",
       "    }\n",
       "</style>\n",
       "<table border=\"1\" class=\"dataframe\">\n",
       "  <thead>\n",
       "    <tr style=\"text-align: right;\">\n",
       "      <th></th>\n",
       "      <th>ls</th>\n",
       "      <th>numberOfSons</th>\n",
       "      <th>numberOfDaughters</th>\n",
       "      <th>sex_ratio</th>\n",
       "    </tr>\n",
       "  </thead>\n",
       "  <tbody>\n",
       "    <tr>\n",
       "      <th>0</th>\n",
       "      <td>12</td>\n",
       "      <td>472.0</td>\n",
       "      <td>444.0</td>\n",
       "      <td>1.063063</td>\n",
       "    </tr>\n",
       "    <tr>\n",
       "      <th>1</th>\n",
       "      <td>13</td>\n",
       "      <td>775.0</td>\n",
       "      <td>742.0</td>\n",
       "      <td>1.044474</td>\n",
       "    </tr>\n",
       "    <tr>\n",
       "      <th>2</th>\n",
       "      <td>14</td>\n",
       "      <td>755.0</td>\n",
       "      <td>676.0</td>\n",
       "      <td>1.116864</td>\n",
       "    </tr>\n",
       "    <tr>\n",
       "      <th>3</th>\n",
       "      <td>15</td>\n",
       "      <td>655.0</td>\n",
       "      <td>630.0</td>\n",
       "      <td>1.039683</td>\n",
       "    </tr>\n",
       "    <tr>\n",
       "      <th>4</th>\n",
       "      <td>16</td>\n",
       "      <td>609.0</td>\n",
       "      <td>552.0</td>\n",
       "      <td>1.103261</td>\n",
       "    </tr>\n",
       "    <tr>\n",
       "      <th>5</th>\n",
       "      <td>17</td>\n",
       "      <td>614.0</td>\n",
       "      <td>538.0</td>\n",
       "      <td>1.141264</td>\n",
       "    </tr>\n",
       "  </tbody>\n",
       "</table>\n",
       "</div>"
      ],
      "text/plain": [
       "   ls  numberOfSons  numberOfDaughters  sex_ratio\n",
       "0  12         472.0              444.0   1.063063\n",
       "1  13         775.0              742.0   1.044474\n",
       "2  14         755.0              676.0   1.116864\n",
       "3  15         655.0              630.0   1.039683\n",
       "4  16         609.0              552.0   1.103261\n",
       "5  17         614.0              538.0   1.141264"
      ]
     },
     "execution_count": 10,
     "metadata": {},
     "output_type": "execute_result"
    }
   ],
   "source": [
    "adf = df.groupby('ls')[['numberOfSons', 'numberOfDaughters']].sum().reset_index()\n",
    "adf['sex_ratio'] = adf['numberOfSons']/adf['numberOfDaughters']\n",
    "adf"
   ]
  },
  {
   "cell_type": "code",
   "execution_count": null,
   "id": "dcde99cc-2ace-4eb7-a332-20bf72bd1f2d",
   "metadata": {},
   "outputs": [],
   "source": []
  }
 ],
 "metadata": {
  "kernelspec": {
   "display_name": "Python 3 (ipykernel)",
   "language": "python",
   "name": "python3"
  },
  "language_info": {
   "codemirror_mode": {
    "name": "ipython",
    "version": 3
   },
   "file_extension": ".py",
   "mimetype": "text/x-python",
   "name": "python",
   "nbconvert_exporter": "python",
   "pygments_lexer": "ipython3",
   "version": "3.8.10"
  }
 },
 "nbformat": 4,
 "nbformat_minor": 5
}
