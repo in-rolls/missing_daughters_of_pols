{
 "cells": [
  {
   "cell_type": "markdown",
   "id": "dad68a68-bb22-4fa1-bba8-614bb445a040",
   "metadata": {},
   "source": [
    "### Sex Ratio of Children of Indian Politicians"
   ]
  },
  {
   "cell_type": "code",
   "execution_count": 22,
   "id": "962b1e50-5c7e-49b6-ac6d-2d3d0b9651c8",
   "metadata": {},
   "outputs": [
    {
     "name": "stdout",
     "output_type": "stream",
     "text": [
      "ls_17.json\n",
      "ls_16.json\n",
      "ls_13.json\n",
      "ls_14.json\n",
      "ls_15.json\n",
      "ls_12.json\n"
     ]
    }
   ],
   "source": [
    "import os\n",
    "import json\n",
    "import requests\n",
    "import pandas as pd\n",
    "import scipy.stats as stats\n",
    "\n",
    "df_list = []\n",
    "\n",
    "for filename in os.listdir(\"data/\"):\n",
    "    print(filename)\n",
    "    with open(os.path.join(\"data/\", filename), \"r\") as f:\n",
    "            data = json.load(f)\n",
    "    df = pd.DataFrame(data['membersDtoList'])\n",
    "    df['ls'] = filename[3:-5]\n",
    "    df_list.append(df)\n",
    "\n",
    "df = pd.concat(df_list)"
   ]
  },
  {
   "cell_type": "code",
   "execution_count": 23,
   "id": "58900cc2-2c09-4c7e-8b37-fa64d1f8062b",
   "metadata": {},
   "outputs": [
    {
     "data": {
      "text/plain": [
       "(3196, 33)"
      ]
     },
     "execution_count": 23,
     "metadata": {},
     "output_type": "execute_result"
    }
   ],
   "source": [
    "df.shape"
   ]
  },
  {
   "cell_type": "code",
   "execution_count": 24,
   "id": "dca8ca72-9dee-41e8-acb4-7b2aae5b25a0",
   "metadata": {},
   "outputs": [
    {
     "data": {
      "text/plain": [
       "(2983, 33)"
      ]
     },
     "execution_count": 24,
     "metadata": {},
     "output_type": "execute_result"
    }
   ],
   "source": [
    "## Filter out NaNs\n",
    "df_small = df.loc[~ (df['numberOfSons'].isna() | df['numberOfDaughters'].isna())]\n",
    "df_small.shape"
   ]
  },
  {
   "cell_type": "code",
   "execution_count": 25,
   "id": "4d131977-fddc-422d-bb87-c2e5fda816c4",
   "metadata": {},
   "outputs": [
    {
     "data": {
      "text/plain": [
       "1.0831937465103294"
      ]
     },
     "execution_count": 25,
     "metadata": {},
     "output_type": "execute_result"
    }
   ],
   "source": [
    "sum(df_small['numberOfSons'])/sum(df_small['numberOfDaughters'])"
   ]
  },
  {
   "cell_type": "code",
   "execution_count": 26,
   "id": "4e0f203f-cc37-40fd-ab05-562e228c2b70",
   "metadata": {},
   "outputs": [
    {
     "name": "stdout",
     "output_type": "stream",
     "text": [
      "0.4629706140322832\n",
      "t = -3.978054398286268\n",
      "p = 7.130397870998785e-05\n"
     ]
    },
    {
     "name": "stderr",
     "output_type": "stream",
     "text": [
      "/tmp/ipykernel_1079339/259083477.py:5: SettingWithCopyWarning: \n",
      "A value is trying to be set on a copy of a slice from a DataFrame.\n",
      "Try using .loc[row_indexer,col_indexer] = value instead\n",
      "\n",
      "See the caveats in the documentation: https://pandas.pydata.org/pandas-docs/stable/user_guide/indexing.html#returning-a-view-versus-a-copy\n",
      "  df_kids['prop_daughter'] = df_kids['numberOfDaughters']/df_kids['total_kids']\n"
     ]
    }
   ],
   "source": [
    "# Filter on ls members with kids\n",
    "df['total_kids'] = df['numberOfDaughters'] + df['numberOfSons']\n",
    "\n",
    "df_kids = df[df['total_kids'] > 0]\n",
    "df_kids['prop_daughter'] = df_kids['numberOfDaughters']/df_kids['total_kids']\n",
    "\n",
    "print(df_kids['prop_daughter'].mean())\n",
    "\n",
    "# Perform the t-test\n",
    "t, p = stats.ttest_1samp(df_kids['prop_daughter'], popmean = 0.4878)\n",
    "\n",
    "# Print the results\n",
    "print('t =', t)\n",
    "print('p =', p)"
   ]
  },
  {
   "cell_type": "code",
   "execution_count": 30,
   "id": "d2a3e41b-06cb-4cc9-a4cd-f5066d921fee",
   "metadata": {},
   "outputs": [
    {
     "data": {
      "text/html": [
       "<div>\n",
       "<style scoped>\n",
       "    .dataframe tbody tr th:only-of-type {\n",
       "        vertical-align: middle;\n",
       "    }\n",
       "\n",
       "    .dataframe tbody tr th {\n",
       "        vertical-align: top;\n",
       "    }\n",
       "\n",
       "    .dataframe thead th {\n",
       "        text-align: right;\n",
       "    }\n",
       "</style>\n",
       "<table border=\"1\" class=\"dataframe\">\n",
       "  <thead>\n",
       "    <tr style=\"text-align: right;\">\n",
       "      <th></th>\n",
       "      <th></th>\n",
       "      <th>total_kids</th>\n",
       "      <th>prop_daughter</th>\n",
       "    </tr>\n",
       "    <tr>\n",
       "      <th>ls</th>\n",
       "      <th></th>\n",
       "      <th></th>\n",
       "      <th></th>\n",
       "    </tr>\n",
       "  </thead>\n",
       "  <tbody>\n",
       "    <tr>\n",
       "      <th rowspan=\"2\" valign=\"top\">12</th>\n",
       "      <th>total_kids</th>\n",
       "      <td>1.000000</td>\n",
       "      <td>0.142198</td>\n",
       "    </tr>\n",
       "    <tr>\n",
       "      <th>prop_daughter</th>\n",
       "      <td>0.142198</td>\n",
       "      <td>1.000000</td>\n",
       "    </tr>\n",
       "    <tr>\n",
       "      <th rowspan=\"2\" valign=\"top\">13</th>\n",
       "      <th>total_kids</th>\n",
       "      <td>1.000000</td>\n",
       "      <td>0.176875</td>\n",
       "    </tr>\n",
       "    <tr>\n",
       "      <th>prop_daughter</th>\n",
       "      <td>0.176875</td>\n",
       "      <td>1.000000</td>\n",
       "    </tr>\n",
       "    <tr>\n",
       "      <th rowspan=\"2\" valign=\"top\">14</th>\n",
       "      <th>total_kids</th>\n",
       "      <td>1.000000</td>\n",
       "      <td>0.060633</td>\n",
       "    </tr>\n",
       "    <tr>\n",
       "      <th>prop_daughter</th>\n",
       "      <td>0.060633</td>\n",
       "      <td>1.000000</td>\n",
       "    </tr>\n",
       "    <tr>\n",
       "      <th rowspan=\"2\" valign=\"top\">15</th>\n",
       "      <th>total_kids</th>\n",
       "      <td>1.000000</td>\n",
       "      <td>0.125393</td>\n",
       "    </tr>\n",
       "    <tr>\n",
       "      <th>prop_daughter</th>\n",
       "      <td>0.125393</td>\n",
       "      <td>1.000000</td>\n",
       "    </tr>\n",
       "    <tr>\n",
       "      <th rowspan=\"2\" valign=\"top\">16</th>\n",
       "      <th>total_kids</th>\n",
       "      <td>1.000000</td>\n",
       "      <td>0.039509</td>\n",
       "    </tr>\n",
       "    <tr>\n",
       "      <th>prop_daughter</th>\n",
       "      <td>0.039509</td>\n",
       "      <td>1.000000</td>\n",
       "    </tr>\n",
       "    <tr>\n",
       "      <th rowspan=\"2\" valign=\"top\">17</th>\n",
       "      <th>total_kids</th>\n",
       "      <td>1.000000</td>\n",
       "      <td>0.108543</td>\n",
       "    </tr>\n",
       "    <tr>\n",
       "      <th>prop_daughter</th>\n",
       "      <td>0.108543</td>\n",
       "      <td>1.000000</td>\n",
       "    </tr>\n",
       "  </tbody>\n",
       "</table>\n",
       "</div>"
      ],
      "text/plain": [
       "                  total_kids  prop_daughter\n",
       "ls                                         \n",
       "12 total_kids       1.000000       0.142198\n",
       "   prop_daughter    0.142198       1.000000\n",
       "13 total_kids       1.000000       0.176875\n",
       "   prop_daughter    0.176875       1.000000\n",
       "14 total_kids       1.000000       0.060633\n",
       "   prop_daughter    0.060633       1.000000\n",
       "15 total_kids       1.000000       0.125393\n",
       "   prop_daughter    0.125393       1.000000\n",
       "16 total_kids       1.000000       0.039509\n",
       "   prop_daughter    0.039509       1.000000\n",
       "17 total_kids       1.000000       0.108543\n",
       "   prop_daughter    0.108543       1.000000"
      ]
     },
     "execution_count": 30,
     "metadata": {},
     "output_type": "execute_result"
    }
   ],
   "source": [
    "df_kids[['ls', 'total_kids', 'prop_daughter']].groupby('ls').corr()"
   ]
  },
  {
   "cell_type": "markdown",
   "id": "22335885-53aa-4f0b-b0f2-56ec81b2aacd",
   "metadata": {},
   "source": [
    "### Mean Prop Daughter by Number of Kids\n",
    "\n",
    "NB: Does a bit of double counting of MPs"
   ]
  },
  {
   "cell_type": "code",
   "execution_count": 38,
   "id": "5bad05a1-7a00-4f58-9233-8923e6c9c6b8",
   "metadata": {},
   "outputs": [
    {
     "data": {
      "text/html": [
       "<div>\n",
       "<style scoped>\n",
       "    .dataframe tbody tr th:only-of-type {\n",
       "        vertical-align: middle;\n",
       "    }\n",
       "\n",
       "    .dataframe tbody tr th {\n",
       "        vertical-align: top;\n",
       "    }\n",
       "\n",
       "    .dataframe thead tr th {\n",
       "        text-align: left;\n",
       "    }\n",
       "</style>\n",
       "<table border=\"1\" class=\"dataframe\">\n",
       "  <thead>\n",
       "    <tr>\n",
       "      <th></th>\n",
       "      <th>total_kids</th>\n",
       "      <th colspan=\"2\" halign=\"left\">prop_daughter</th>\n",
       "    </tr>\n",
       "    <tr>\n",
       "      <th></th>\n",
       "      <th></th>\n",
       "      <th>mean</th>\n",
       "      <th>count</th>\n",
       "    </tr>\n",
       "  </thead>\n",
       "  <tbody>\n",
       "    <tr>\n",
       "      <th>0</th>\n",
       "      <td>1.0</td>\n",
       "      <td>0.448485</td>\n",
       "      <td>330</td>\n",
       "    </tr>\n",
       "    <tr>\n",
       "      <th>1</th>\n",
       "      <td>2.0</td>\n",
       "      <td>0.426178</td>\n",
       "      <td>1104</td>\n",
       "    </tr>\n",
       "    <tr>\n",
       "      <th>2</th>\n",
       "      <td>3.0</td>\n",
       "      <td>0.468217</td>\n",
       "      <td>645</td>\n",
       "    </tr>\n",
       "    <tr>\n",
       "      <th>3</th>\n",
       "      <td>4.0</td>\n",
       "      <td>0.522923</td>\n",
       "      <td>349</td>\n",
       "    </tr>\n",
       "    <tr>\n",
       "      <th>4</th>\n",
       "      <td>5.0</td>\n",
       "      <td>0.538202</td>\n",
       "      <td>178</td>\n",
       "    </tr>\n",
       "    <tr>\n",
       "      <th>5</th>\n",
       "      <td>6.0</td>\n",
       "      <td>0.538462</td>\n",
       "      <td>52</td>\n",
       "    </tr>\n",
       "    <tr>\n",
       "      <th>6</th>\n",
       "      <td>7.0</td>\n",
       "      <td>0.523810</td>\n",
       "      <td>27</td>\n",
       "    </tr>\n",
       "    <tr>\n",
       "      <th>7</th>\n",
       "      <td>8.0</td>\n",
       "      <td>0.554688</td>\n",
       "      <td>16</td>\n",
       "    </tr>\n",
       "    <tr>\n",
       "      <th>8</th>\n",
       "      <td>9.0</td>\n",
       "      <td>0.703704</td>\n",
       "      <td>3</td>\n",
       "    </tr>\n",
       "    <tr>\n",
       "      <th>9</th>\n",
       "      <td>11.0</td>\n",
       "      <td>0.545455</td>\n",
       "      <td>1</td>\n",
       "    </tr>\n",
       "    <tr>\n",
       "      <th>10</th>\n",
       "      <td>12.0</td>\n",
       "      <td>0.416667</td>\n",
       "      <td>3</td>\n",
       "    </tr>\n",
       "  </tbody>\n",
       "</table>\n",
       "</div>"
      ],
      "text/plain": [
       "   total_kids prop_daughter      \n",
       "                       mean count\n",
       "0         1.0      0.448485   330\n",
       "1         2.0      0.426178  1104\n",
       "2         3.0      0.468217   645\n",
       "3         4.0      0.522923   349\n",
       "4         5.0      0.538202   178\n",
       "5         6.0      0.538462    52\n",
       "6         7.0      0.523810    27\n",
       "7         8.0      0.554688    16\n",
       "8         9.0      0.703704     3\n",
       "9        11.0      0.545455     1\n",
       "10       12.0      0.416667     3"
      ]
     },
     "execution_count": 38,
     "metadata": {},
     "output_type": "execute_result"
    }
   ],
   "source": [
    "df_kids[['total_kids', 'prop_daughter']].groupby(['total_kids']).agg({'prop_daughter': ['mean', 'count']}).reset_index()"
   ]
  },
  {
   "cell_type": "code",
   "execution_count": 6,
   "id": "29e64306-f3df-41b7-ae13-987cc9332a23",
   "metadata": {},
   "outputs": [
    {
     "data": {
      "text/plain": [
       "2.5015085484411665"
      ]
     },
     "execution_count": 6,
     "metadata": {},
     "output_type": "execute_result"
    }
   ],
   "source": [
    "df['total_kids'].mean()"
   ]
  },
  {
   "cell_type": "code",
   "execution_count": 39,
   "id": "18e71e98-7da7-41f8-9ccc-b2e92999172e",
   "metadata": {},
   "outputs": [
    {
     "data": {
      "text/plain": [
       "ls\n",
       "12    2.818462\n",
       "13    2.768248\n",
       "14    2.583032\n",
       "15    2.514677\n",
       "16    2.294466\n",
       "17    2.137291\n",
       "Name: total_kids, dtype: float64"
      ]
     },
     "execution_count": 39,
     "metadata": {},
     "output_type": "execute_result"
    }
   ],
   "source": [
    "df.groupby('ls')['total_kids'].mean()"
   ]
  },
  {
   "cell_type": "code",
   "execution_count": 7,
   "id": "f7f88651-1682-4eea-93dd-62ceb3509dc1",
   "metadata": {},
   "outputs": [
    {
     "data": {
      "text/plain": [
       "ls\n",
       "12    0.461634\n",
       "13    0.464026\n",
       "14    0.462615\n",
       "15    0.469007\n",
       "16    0.469267\n",
       "17    0.451103\n",
       "Name: prop_daughter, dtype: float64"
      ]
     },
     "execution_count": 7,
     "metadata": {},
     "output_type": "execute_result"
    }
   ],
   "source": [
    "df_kids.groupby('ls')['prop_daughter'].mean()"
   ]
  },
  {
   "cell_type": "markdown",
   "id": "80a3e004-f08c-495a-b9fa-a13a65028b78",
   "metadata": {
    "tags": []
   },
   "source": [
    "#### Let's look at it by party"
   ]
  },
  {
   "cell_type": "code",
   "execution_count": 8,
   "id": "a177f2e3-36a6-4d8d-a791-c75ebfe74fc3",
   "metadata": {},
   "outputs": [
    {
     "name": "stdout",
     "output_type": "stream",
     "text": [
      "0.4543823575862864\n",
      "t = -3.449952944170598\n",
      "p = 0.0005825870909039917\n"
     ]
    }
   ],
   "source": [
    "df_kids_bjp = df_kids[df_kids['partySname'] == 'BJP']\n",
    "# Perform the t-test\n",
    "t, p = stats.ttest_1samp(df_kids_bjp['prop_daughter'], popmean = 0.4878)\n",
    "\n",
    "print(df_kids_bjp['prop_daughter'].mean())\n",
    "# Print the results\n",
    "print('t =', t)\n",
    "print('p =', p)"
   ]
  },
  {
   "cell_type": "code",
   "execution_count": 9,
   "id": "3cbc20e5-4392-4ac6-973d-5be446792e2d",
   "metadata": {},
   "outputs": [
    {
     "name": "stdout",
     "output_type": "stream",
     "text": [
      "0.4747165532879819\n",
      "t = -0.9713369547975335\n",
      "p = 0.3318006131223229\n"
     ]
    }
   ],
   "source": [
    "df_kids_inc = df_kids[df_kids['partySname'] == 'INC']\n",
    "# Perform the t-test\n",
    "t, p = stats.ttest_1samp(df_kids_inc['prop_daughter'], popmean = 0.4878)\n",
    "\n",
    "print(df_kids_inc['prop_daughter'].mean())\n",
    "# Print the results\n",
    "print('t =', t)\n",
    "print('p =', p)"
   ]
  },
  {
   "cell_type": "code",
   "execution_count": 18,
   "id": "aa098c49-7ce1-4971-b771-2a24d5c6c9f2",
   "metadata": {},
   "outputs": [
    {
     "name": "stdout",
     "output_type": "stream",
     "text": [
      "0.4543823575862864\n",
      "0.4685721064915696\n",
      "t-statistic: -1.1112914309522917\n",
      "p-value: 0.2665416543686745\n"
     ]
    }
   ],
   "source": [
    "# Create two DataFrames for the two groups\n",
    "bjp    = df_kids[df_kids['partySname'] == 'BJP']\n",
    "others = df_kids[~ (df_kids['partySname'] == 'BJP')]\n",
    "\n",
    "# Perform the t-test\n",
    "t_statistic, p_value = stats.ttest_ind(bjp['prop_daughter'], others['prop_daughter'])\n",
    "\n",
    "# Print the results\n",
    "print(bjp['prop_daughter'].mean())\n",
    "print(others['prop_daughter'].mean())\n",
    "print('t-statistic:', t_statistic)\n",
    "print('p-value:', p_value)"
   ]
  },
  {
   "cell_type": "markdown",
   "id": "5dfa0a63-c891-4494-a0d6-5221a16ffde9",
   "metadata": {},
   "source": [
    "### Sex Ratios"
   ]
  },
  {
   "cell_type": "code",
   "execution_count": 11,
   "id": "37629377-3d84-45a4-9148-cbbc1944c3d6",
   "metadata": {},
   "outputs": [
    {
     "data": {
      "text/html": [
       "<div>\n",
       "<style scoped>\n",
       "    .dataframe tbody tr th:only-of-type {\n",
       "        vertical-align: middle;\n",
       "    }\n",
       "\n",
       "    .dataframe tbody tr th {\n",
       "        vertical-align: top;\n",
       "    }\n",
       "\n",
       "    .dataframe thead th {\n",
       "        text-align: right;\n",
       "    }\n",
       "</style>\n",
       "<table border=\"1\" class=\"dataframe\">\n",
       "  <thead>\n",
       "    <tr style=\"text-align: right;\">\n",
       "      <th></th>\n",
       "      <th>ls</th>\n",
       "      <th>numberOfSons</th>\n",
       "      <th>numberOfDaughters</th>\n",
       "      <th>sex_ratio</th>\n",
       "    </tr>\n",
       "  </thead>\n",
       "  <tbody>\n",
       "    <tr>\n",
       "      <th>0</th>\n",
       "      <td>12</td>\n",
       "      <td>472.0</td>\n",
       "      <td>444.0</td>\n",
       "      <td>1.063063</td>\n",
       "    </tr>\n",
       "    <tr>\n",
       "      <th>1</th>\n",
       "      <td>13</td>\n",
       "      <td>775.0</td>\n",
       "      <td>742.0</td>\n",
       "      <td>1.044474</td>\n",
       "    </tr>\n",
       "    <tr>\n",
       "      <th>2</th>\n",
       "      <td>14</td>\n",
       "      <td>755.0</td>\n",
       "      <td>676.0</td>\n",
       "      <td>1.116864</td>\n",
       "    </tr>\n",
       "    <tr>\n",
       "      <th>3</th>\n",
       "      <td>15</td>\n",
       "      <td>655.0</td>\n",
       "      <td>630.0</td>\n",
       "      <td>1.039683</td>\n",
       "    </tr>\n",
       "    <tr>\n",
       "      <th>4</th>\n",
       "      <td>16</td>\n",
       "      <td>609.0</td>\n",
       "      <td>552.0</td>\n",
       "      <td>1.103261</td>\n",
       "    </tr>\n",
       "    <tr>\n",
       "      <th>5</th>\n",
       "      <td>17</td>\n",
       "      <td>614.0</td>\n",
       "      <td>538.0</td>\n",
       "      <td>1.141264</td>\n",
       "    </tr>\n",
       "  </tbody>\n",
       "</table>\n",
       "</div>"
      ],
      "text/plain": [
       "   ls  numberOfSons  numberOfDaughters  sex_ratio\n",
       "0  12         472.0              444.0   1.063063\n",
       "1  13         775.0              742.0   1.044474\n",
       "2  14         755.0              676.0   1.116864\n",
       "3  15         655.0              630.0   1.039683\n",
       "4  16         609.0              552.0   1.103261\n",
       "5  17         614.0              538.0   1.141264"
      ]
     },
     "execution_count": 11,
     "metadata": {},
     "output_type": "execute_result"
    }
   ],
   "source": [
    "adf = df.groupby('ls')[['numberOfSons', 'numberOfDaughters']].sum().reset_index()\n",
    "adf['sex_ratio'] = adf['numberOfSons']/adf['numberOfDaughters']\n",
    "adf"
   ]
  },
  {
   "cell_type": "markdown",
   "id": "4efa4c2b-820d-4b31-baf9-b3f6114d0368",
   "metadata": {},
   "source": [
    "### By Party"
   ]
  },
  {
   "cell_type": "code",
   "execution_count": 19,
   "id": "05842303-b01f-4d74-886e-3909f5492178",
   "metadata": {},
   "outputs": [
    {
     "data": {
      "text/html": [
       "<div>\n",
       "<style scoped>\n",
       "    .dataframe tbody tr th:only-of-type {\n",
       "        vertical-align: middle;\n",
       "    }\n",
       "\n",
       "    .dataframe tbody tr th {\n",
       "        vertical-align: top;\n",
       "    }\n",
       "\n",
       "    .dataframe thead th {\n",
       "        text-align: right;\n",
       "    }\n",
       "</style>\n",
       "<table border=\"1\" class=\"dataframe\">\n",
       "  <thead>\n",
       "    <tr style=\"text-align: right;\">\n",
       "      <th></th>\n",
       "      <th>partySname</th>\n",
       "      <th>numberOfSons</th>\n",
       "      <th>numberOfDaughters</th>\n",
       "      <th>sex_ratio</th>\n",
       "    </tr>\n",
       "  </thead>\n",
       "  <tbody>\n",
       "    <tr>\n",
       "      <th>17</th>\n",
       "      <td>BJP</td>\n",
       "      <td>1591.0</td>\n",
       "      <td>1428.0</td>\n",
       "      <td>1.114146</td>\n",
       "    </tr>\n",
       "    <tr>\n",
       "      <th>27</th>\n",
       "      <td>INC</td>\n",
       "      <td>773.0</td>\n",
       "      <td>800.0</td>\n",
       "      <td>0.966250</td>\n",
       "    </tr>\n",
       "    <tr>\n",
       "      <th>22</th>\n",
       "      <td>CPI(M)</td>\n",
       "      <td>143.0</td>\n",
       "      <td>126.0</td>\n",
       "      <td>1.134921</td>\n",
       "    </tr>\n",
       "    <tr>\n",
       "      <th>69</th>\n",
       "      <td>SP</td>\n",
       "      <td>115.0</td>\n",
       "      <td>125.0</td>\n",
       "      <td>0.920000</td>\n",
       "    </tr>\n",
       "    <tr>\n",
       "      <th>19</th>\n",
       "      <td>BSP</td>\n",
       "      <td>110.0</td>\n",
       "      <td>79.0</td>\n",
       "      <td>1.392405</td>\n",
       "    </tr>\n",
       "    <tr>\n",
       "      <th>73</th>\n",
       "      <td>TDP</td>\n",
       "      <td>91.0</td>\n",
       "      <td>85.0</td>\n",
       "      <td>1.070588</td>\n",
       "    </tr>\n",
       "    <tr>\n",
       "      <th>70</th>\n",
       "      <td>SS</td>\n",
       "      <td>89.0</td>\n",
       "      <td>62.0</td>\n",
       "      <td>1.435484</td>\n",
       "    </tr>\n",
       "    <tr>\n",
       "      <th>35</th>\n",
       "      <td>JD(U)</td>\n",
       "      <td>86.0</td>\n",
       "      <td>64.0</td>\n",
       "      <td>1.343750</td>\n",
       "    </tr>\n",
       "    <tr>\n",
       "      <th>16</th>\n",
       "      <td>BJD</td>\n",
       "      <td>81.0</td>\n",
       "      <td>86.0</td>\n",
       "      <td>0.941860</td>\n",
       "    </tr>\n",
       "    <tr>\n",
       "      <th>10</th>\n",
       "      <td>AITC</td>\n",
       "      <td>78.0</td>\n",
       "      <td>60.0</td>\n",
       "      <td>1.300000</td>\n",
       "    </tr>\n",
       "  </tbody>\n",
       "</table>\n",
       "</div>"
      ],
      "text/plain": [
       "   partySname  numberOfSons  numberOfDaughters  sex_ratio\n",
       "17        BJP        1591.0             1428.0   1.114146\n",
       "27        INC         773.0              800.0   0.966250\n",
       "22     CPI(M)         143.0              126.0   1.134921\n",
       "69         SP         115.0              125.0   0.920000\n",
       "19        BSP         110.0               79.0   1.392405\n",
       "73        TDP          91.0               85.0   1.070588\n",
       "70         SS          89.0               62.0   1.435484\n",
       "35      JD(U)          86.0               64.0   1.343750\n",
       "16        BJD          81.0               86.0   0.941860\n",
       "10       AITC          78.0               60.0   1.300000"
      ]
     },
     "execution_count": 19,
     "metadata": {},
     "output_type": "execute_result"
    }
   ],
   "source": [
    "adf = df.groupby('partySname')[['numberOfSons', 'numberOfDaughters']].sum().reset_index()\n",
    "adf['sex_ratio'] = adf['numberOfSons']/adf['numberOfDaughters']\n",
    "pdf = adf.sort_values('numberOfSons', ascending = False)[0:10]\n",
    "pdf"
   ]
  },
  {
   "cell_type": "code",
   "execution_count": 20,
   "id": "5a9d6ad8-64fe-4c6e-8fc2-e505afc46354",
   "metadata": {},
   "outputs": [
    {
     "name": "stdout",
     "output_type": "stream",
     "text": [
      "chi2: 0.0\n",
      "p-value: 1.0\n"
     ]
    }
   ],
   "source": [
    "# Perform the chi-square test\n",
    "chi2, p_value, dof, expected = stats.chi2_contingency(pd.crosstab(pdf['numberOfSons'], ['numberOfDaughters']))\n",
    "\n",
    "# Print the results\n",
    "print('chi2:', chi2)\n",
    "print('p-value:', p_value)"
   ]
  },
  {
   "cell_type": "code",
   "execution_count": 14,
   "id": "10d57cc5-e898-4950-90bd-a0ce2fd31f10",
   "metadata": {},
   "outputs": [
    {
     "data": {
      "text/html": [
       "<div>\n",
       "<style scoped>\n",
       "    .dataframe tbody tr th:only-of-type {\n",
       "        vertical-align: middle;\n",
       "    }\n",
       "\n",
       "    .dataframe tbody tr th {\n",
       "        vertical-align: top;\n",
       "    }\n",
       "\n",
       "    .dataframe thead th {\n",
       "        text-align: right;\n",
       "    }\n",
       "</style>\n",
       "<table border=\"1\" class=\"dataframe\">\n",
       "  <thead>\n",
       "    <tr style=\"text-align: right;\">\n",
       "      <th></th>\n",
       "      <th>ls</th>\n",
       "      <th>partySname</th>\n",
       "      <th>numberOfSons</th>\n",
       "      <th>numberOfDaughters</th>\n",
       "      <th>sex_ratio</th>\n",
       "    </tr>\n",
       "  </thead>\n",
       "  <tbody>\n",
       "    <tr>\n",
       "      <th>221</th>\n",
       "      <td>17</td>\n",
       "      <td>BJP</td>\n",
       "      <td>364.0</td>\n",
       "      <td>315.0</td>\n",
       "      <td>1.155556</td>\n",
       "    </tr>\n",
       "    <tr>\n",
       "      <th>185</th>\n",
       "      <td>16</td>\n",
       "      <td>BJP</td>\n",
       "      <td>351.0</td>\n",
       "      <td>312.0</td>\n",
       "      <td>1.125000</td>\n",
       "    </tr>\n",
       "    <tr>\n",
       "      <th>58</th>\n",
       "      <td>13</td>\n",
       "      <td>BJP</td>\n",
       "      <td>286.0</td>\n",
       "      <td>268.0</td>\n",
       "      <td>1.067164</td>\n",
       "    </tr>\n",
       "    <tr>\n",
       "      <th>153</th>\n",
       "      <td>15</td>\n",
       "      <td>INC</td>\n",
       "      <td>231.0</td>\n",
       "      <td>225.0</td>\n",
       "      <td>1.026667</td>\n",
       "    </tr>\n",
       "    <tr>\n",
       "      <th>102</th>\n",
       "      <td>14</td>\n",
       "      <td>BJP</td>\n",
       "      <td>218.0</td>\n",
       "      <td>190.0</td>\n",
       "      <td>1.147368</td>\n",
       "    </tr>\n",
       "    <tr>\n",
       "      <th>9</th>\n",
       "      <td>12</td>\n",
       "      <td>BJP</td>\n",
       "      <td>202.0</td>\n",
       "      <td>188.0</td>\n",
       "      <td>1.074468</td>\n",
       "    </tr>\n",
       "    <tr>\n",
       "      <th>109</th>\n",
       "      <td>14</td>\n",
       "      <td>INC</td>\n",
       "      <td>200.0</td>\n",
       "      <td>194.0</td>\n",
       "      <td>1.030928</td>\n",
       "    </tr>\n",
       "    <tr>\n",
       "      <th>145</th>\n",
       "      <td>15</td>\n",
       "      <td>BJP</td>\n",
       "      <td>170.0</td>\n",
       "      <td>155.0</td>\n",
       "      <td>1.096774</td>\n",
       "    </tr>\n",
       "    <tr>\n",
       "      <th>65</th>\n",
       "      <td>13</td>\n",
       "      <td>INC</td>\n",
       "      <td>157.0</td>\n",
       "      <td>190.0</td>\n",
       "      <td>0.826316</td>\n",
       "    </tr>\n",
       "    <tr>\n",
       "      <th>17</th>\n",
       "      <td>12</td>\n",
       "      <td>INC</td>\n",
       "      <td>93.0</td>\n",
       "      <td>104.0</td>\n",
       "      <td>0.894231</td>\n",
       "    </tr>\n",
       "    <tr>\n",
       "      <th>106</th>\n",
       "      <td>14</td>\n",
       "      <td>CPI(M)</td>\n",
       "      <td>49.0</td>\n",
       "      <td>36.0</td>\n",
       "      <td>1.361111</td>\n",
       "    </tr>\n",
       "    <tr>\n",
       "      <th>226</th>\n",
       "      <td>17</td>\n",
       "      <td>INC</td>\n",
       "      <td>49.0</td>\n",
       "      <td>43.0</td>\n",
       "      <td>1.139535</td>\n",
       "    </tr>\n",
       "    <tr>\n",
       "      <th>188</th>\n",
       "      <td>16</td>\n",
       "      <td>INC</td>\n",
       "      <td>43.0</td>\n",
       "      <td>44.0</td>\n",
       "      <td>0.977273</td>\n",
       "    </tr>\n",
       "    <tr>\n",
       "      <th>132</th>\n",
       "      <td>14</td>\n",
       "      <td>SP</td>\n",
       "      <td>43.0</td>\n",
       "      <td>43.0</td>\n",
       "      <td>1.000000</td>\n",
       "    </tr>\n",
       "    <tr>\n",
       "      <th>62</th>\n",
       "      <td>13</td>\n",
       "      <td>CPI(M)</td>\n",
       "      <td>42.0</td>\n",
       "      <td>38.0</td>\n",
       "      <td>1.105263</td>\n",
       "    </tr>\n",
       "    <tr>\n",
       "      <th>95</th>\n",
       "      <td>13</td>\n",
       "      <td>TDP</td>\n",
       "      <td>40.0</td>\n",
       "      <td>36.0</td>\n",
       "      <td>1.111111</td>\n",
       "    </tr>\n",
       "    <tr>\n",
       "      <th>104</th>\n",
       "      <td>14</td>\n",
       "      <td>BSP</td>\n",
       "      <td>39.0</td>\n",
       "      <td>23.0</td>\n",
       "      <td>1.695652</td>\n",
       "    </tr>\n",
       "    <tr>\n",
       "      <th>13</th>\n",
       "      <td>12</td>\n",
       "      <td>CPI(M)</td>\n",
       "      <td>34.0</td>\n",
       "      <td>26.0</td>\n",
       "      <td>1.307692</td>\n",
       "    </tr>\n",
       "    <tr>\n",
       "      <th>177</th>\n",
       "      <td>16</td>\n",
       "      <td>AIADMK</td>\n",
       "      <td>32.0</td>\n",
       "      <td>42.0</td>\n",
       "      <td>0.761905</td>\n",
       "    </tr>\n",
       "    <tr>\n",
       "      <th>147</th>\n",
       "      <td>15</td>\n",
       "      <td>BSP</td>\n",
       "      <td>32.0</td>\n",
       "      <td>31.0</td>\n",
       "      <td>1.032258</td>\n",
       "    </tr>\n",
       "  </tbody>\n",
       "</table>\n",
       "</div>"
      ],
      "text/plain": [
       "     ls partySname  numberOfSons  numberOfDaughters  sex_ratio\n",
       "221  17        BJP         364.0              315.0   1.155556\n",
       "185  16        BJP         351.0              312.0   1.125000\n",
       "58   13        BJP         286.0              268.0   1.067164\n",
       "153  15        INC         231.0              225.0   1.026667\n",
       "102  14        BJP         218.0              190.0   1.147368\n",
       "9    12        BJP         202.0              188.0   1.074468\n",
       "109  14        INC         200.0              194.0   1.030928\n",
       "145  15        BJP         170.0              155.0   1.096774\n",
       "65   13        INC         157.0              190.0   0.826316\n",
       "17   12        INC          93.0              104.0   0.894231\n",
       "106  14     CPI(M)          49.0               36.0   1.361111\n",
       "226  17        INC          49.0               43.0   1.139535\n",
       "188  16        INC          43.0               44.0   0.977273\n",
       "132  14         SP          43.0               43.0   1.000000\n",
       "62   13     CPI(M)          42.0               38.0   1.105263\n",
       "95   13        TDP          40.0               36.0   1.111111\n",
       "104  14        BSP          39.0               23.0   1.695652\n",
       "13   12     CPI(M)          34.0               26.0   1.307692\n",
       "177  16     AIADMK          32.0               42.0   0.761905\n",
       "147  15        BSP          32.0               31.0   1.032258"
      ]
     },
     "execution_count": 14,
     "metadata": {},
     "output_type": "execute_result"
    }
   ],
   "source": [
    "adf = df.groupby(['ls', 'partySname'])[['numberOfSons', 'numberOfDaughters']].sum().reset_index()\n",
    "adf['sex_ratio'] = adf['numberOfSons']/adf['numberOfDaughters']\n",
    "adf.sort_values('numberOfSons', ascending = False)[0:20]"
   ]
  },
  {
   "cell_type": "code",
   "execution_count": null,
   "id": "d15b61ac-cce4-4d19-9dca-f7bc69e1f654",
   "metadata": {},
   "outputs": [],
   "source": []
  }
 ],
 "metadata": {
  "kernelspec": {
   "display_name": "Python 3 (ipykernel)",
   "language": "python",
   "name": "python3"
  },
  "language_info": {
   "codemirror_mode": {
    "name": "ipython",
    "version": 3
   },
   "file_extension": ".py",
   "mimetype": "text/x-python",
   "name": "python",
   "nbconvert_exporter": "python",
   "pygments_lexer": "ipython3",
   "version": "3.8.10"
  }
 },
 "nbformat": 4,
 "nbformat_minor": 5
}
